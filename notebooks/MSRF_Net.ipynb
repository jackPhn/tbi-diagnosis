{
 "cells": [
  {
   "cell_type": "code",
   "execution_count": null,
   "id": "f13ae54b",
   "metadata": {},
   "outputs": [],
   "source": [
    "import os\n",
    "from PIL import Image\n",
    "from os import listdir\n",
    "from os.path import isfile, join\n",
    "import numpy as np\n",
    "from glob import glob\n",
    "np.random.seed(123)\n",
    "import warnings\n",
    "import numpy as np\n",
    "from sklearn.utils import shuffle\n",
    "import cv2\n",
    "import matplotlib.pyplot as plt\n",
    "import numpy as np\n",
    "from glob import glob\n",
    "np.random.seed(123)\n",
    "import itertools\n",
    "import warnings\n",
    "from tensorflow import keras\n",
    "from keras.models import Sequential\n",
    "from keras.layers import BatchNormalization, Dense, Dropout,Input,Average,Conv2DTranspose,SeparableConv2D,dot,UpSampling2D,Add, Flatten,Concatenate,Multiply,Conv2D, MaxPooling2D,Activation,AveragePooling2D, ZeroPadding2D,GlobalAveragePooling2D,multiply,DepthwiseConv2D,ZeroPadding2D,GlobalAveragePooling2D\n",
    "from keras import backend as K\n",
    "from keras.layers import concatenate ,Lambda\n",
    "import itertools\n",
    "from tensorflow.keras.optimizers import SGD\n",
    "import tensorflow as tf\n",
    "from tensorflow.keras.optimizers import Adam,RMSprop\n",
    "from sklearn.model_selection import train_test_split\n",
    "from tensorflow.keras.losses import BinaryCrossentropy,CategoricalCrossentropy\n",
    "import numpy as np\n",
    "from keras.initializers import RandomNormal\n",
    "from keras.layers.advanced_activations import LeakyReLU\n",
    "from keras.models import Model\n",
    "from math import sqrt, ceil\n",
    "from tqdm import tqdm_notebook as tqdm\n",
    "from sklearn.utils import shuffle\n",
    "from tqdm import tqdm\n",
    "import tifffile as tif\n",
    "from model import msrf\n",
    "from model import *\n",
    "from tensorflow.keras.callbacks import *\n",
    "import skimage.io\n",
    "from skimage.transform import rescale, resize, downscale_local_mean\n",
    "from skimage.color import rgb2gray\n",
    "from loss import *\n",
    "from utils import *\n",
    "gpu_options = tf.compat.v1.GPUOptions(per_process_gpu_memory_fraction=1.0)\n",
    "config = tf.compat.v1.ConfigProto()\n",
    "config.gpu_options.allow_growth = True\n",
    "sess = tf.compat.v1.Session()\n",
    "from glob import glob"
   ]
  },
  {
   "cell_type": "code",
   "execution_count": null,
   "id": "bdadbcb2",
   "metadata": {},
   "outputs": [],
   "source": [
    "def create_dir(path):\n",
    "    \"\"\" Create a directory. \"\"\"\n",
    "    try:\n",
    "        if not os.path.exists(path):\n",
    "            os.makedirs(path)\n",
    "    except OSError:\n",
    "        print(f\"Error: creating directory with name {path}\")"
   ]
  },
  {
   "cell_type": "code",
   "execution_count": null,
   "id": "f679191d",
   "metadata": {},
   "outputs": [],
   "source": [
    "def read_data(x, y):\n",
    "    \"\"\" Read the image and mask from the given path. \"\"\"\n",
    "    image = cv2.imread(x, cv2.IMREAD_COLOR)\n",
    "    mask = cv2.imread(y, cv2.IMREAD_COLOR)\n",
    "    return image, mask"
   ]
  },
  {
   "cell_type": "code",
   "execution_count": null,
   "id": "6bae3041",
   "metadata": {},
   "outputs": [],
   "source": [
    "def read_params():\n",
    "    \"\"\" Reading the parameters from the JSON file.\"\"\"\n",
    "    with open(\"params.json\", \"r\") as f:\n",
    "        data = f.read()\n",
    "        params = json.loads(data)\n",
    "        return params"
   ]
  },
  {
   "cell_type": "code",
   "execution_count": null,
   "id": "daf4fd99",
   "metadata": {},
   "outputs": [],
   "source": [
    "def load_data(path):\n",
    "    \"\"\" Loading the data from the given path. \"\"\"\n",
    "    images_path = os.path.join(path, \"image/*\")\n",
    "    masks_path  = os.path.join(path, \"mask/*\")\n",
    "    \n",
    "    images = glob(images_path)\n",
    "    masks  = glob(masks_path)\n",
    "    \n",
    "    return images, masks"
   ]
  },
  {
   "cell_type": "code",
   "execution_count": null,
   "id": "5c71556c",
   "metadata": {},
   "outputs": [],
   "source": [
    "def shuffling(x, y):\n",
    "    x, y = shuffle(x, y, random_state=42)\n",
    "    return x, y"
   ]
  },
  {
   "cell_type": "code",
   "execution_count": null,
   "id": "ae17318b",
   "metadata": {},
   "outputs": [],
   "source": [
    "def get_image(image_path, image_size_wight, image_size_height,gray=False):\n",
    "    # load image\n",
    "    img = Image.open(image_path)\n",
    "    if img.mode != 'RGB':\n",
    "        img = img.convert('RGB')\n",
    "    \n",
    "    if gray==True:\n",
    "        img = img.convert('L')\n",
    "    # center crop\n",
    "    img_center_crop = img\n",
    "    # resize\n",
    "    img_resized = img_center_crop.resize((image_size_height, image_size_wight), Image.ANTIALIAS)\n",
    "    edge = cv2.Canny(np.asarray(np.uint8(img_resized)),10,1000)\n",
    "    \n",
    "    flag = False\n",
    "    # convert to numpy and normalize\n",
    "    img_array = np.asarray(img_resized).astype(np.float32)/255.0\n",
    "    edge = np.asarray(edge).astype(np.float32)/255.0\n",
    "    #print(img_array)\n",
    "    if gray==True:\n",
    "        img_array=(img_array >=0.5).astype(int)\n",
    "    img.close()\n",
    "    return img_array,edge"
   ]
  },
  {
   "cell_type": "code",
   "execution_count": null,
   "id": "885dd1b1",
   "metadata": {},
   "outputs": [],
   "source": [
    "def get_image(original_image, image_size_wight, image_size_height,gray=False):\n",
    "    # load image\n",
    "    img = Image.open(image_path)\n",
    "    if img.mode != 'RGB':\n",
    "        img = img.convert('RGB')\n",
    "    \n",
    "    if gray==True:\n",
    "        img = img.convert('L')\n",
    "    # center crop\n",
    "    img_center_crop = img\n",
    "    # resize\n",
    "    img_resized = img_center_crop.resize((image_size_height, image_size_wight), Image.ANTIALIAS)\n",
    "    edge = cv2.Canny(np.asarray(np.uint8(img_resized)),10,1000)\n",
    "    \n",
    "    flag = False\n",
    "    # convert to numpy and normalize\n",
    "    img_array = np.asarray(img_resized).astype(np.float32)/255.0\n",
    "    edge = np.asarray(edge).astype(np.float32)/255.0\n",
    "    #print(img_array)\n",
    "    if gray==True:\n",
    "        img_array=(img_array >=0.5).astype(int)\n",
    "    img.close()\n",
    "    return img_array,edge"
   ]
  },
  {
   "cell_type": "code",
   "execution_count": null,
   "id": "19213884",
   "metadata": {},
   "outputs": [],
   "source": []
  }
 ],
 "metadata": {
  "kernelspec": {
   "display_name": "Python 3 (ipykernel)",
   "language": "python",
   "name": "python3"
  },
  "language_info": {
   "codemirror_mode": {
    "name": "ipython",
    "version": 3
   },
   "file_extension": ".py",
   "mimetype": "text/x-python",
   "name": "python",
   "nbconvert_exporter": "python",
   "pygments_lexer": "ipython3",
   "version": "3.9.2"
  }
 },
 "nbformat": 4,
 "nbformat_minor": 5
}
