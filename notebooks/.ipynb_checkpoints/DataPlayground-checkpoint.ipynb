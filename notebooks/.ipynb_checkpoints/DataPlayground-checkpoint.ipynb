{
 "cells": [
  {
   "cell_type": "code",
   "execution_count": 1,
   "id": "30bd7efd",
   "metadata": {},
   "outputs": [],
   "source": [
    "import os\n",
    "import numpy as np\n",
    "import cv2\n",
    "import math\n",
    "import matplotlib.pyplot as plt\n",
    "import sklearn\n",
    "import h5py\n",
    "from tensorflow.keras import backend as K\n",
    "from scipy.io import loadmat"
   ]
  },
  {
   "cell_type": "code",
   "execution_count": 2,
   "id": "5a36f89b",
   "metadata": {},
   "outputs": [],
   "source": [
    "data_dir = \"/DATA/phan92/tbi_diagnosis/data/raw/cardiac_displacement_3_updated_Oct13\""
   ]
  },
  {
   "cell_type": "code",
   "execution_count": null,
   "id": "eb2a9293",
   "metadata": {},
   "outputs": [],
   "source": [
    "# find out all different size of the dataset\n",
    "data_sizes = []\n",
    "for patient in os.listdir(data_dir):\n",
    "    for scan in os.listdir(os.path.join(data_dir, patient)):\n",
    "        data = loadmat(os.path.join(data_dir, patient, scan))\n",
    "        size_of_displacement = data['displacement'].shape\n",
    "        print(scan, size_of_displacement)\n",
    "        if size_of_displacement not in data_sizes:\n",
    "            data_sizes.append(size_of_displacement)"
   ]
  },
  {
   "cell_type": "code",
   "execution_count": null,
   "id": "10e8ab84",
   "metadata": {},
   "outputs": [],
   "source": [
    "len(data_sizes)"
   ]
  },
  {
   "cell_type": "code",
   "execution_count": null,
   "id": "bb5cb9a7",
   "metadata": {},
   "outputs": [],
   "source": [
    "data_sizes"
   ]
  },
  {
   "cell_type": "code",
   "execution_count": 35,
   "id": "0cb32163",
   "metadata": {},
   "outputs": [],
   "source": [
    "# Extract axis information to produce cone-shape images\n",
    "def extract_axis(datapath, axisPath):\n",
    "    data = loadmat(datapath)\n",
    "\n",
    "    xaxis = np.array(list(data['xAxis']))\n",
    "    yaxis = np.array(list(data['zAxis']))\n",
    "\n",
    "    xaxis = cv2.resize(xaxis, (80, 256), interpolation=cv2.INTER_AREA)\n",
    "    yaxis = cv2.resize(yaxis, (80, 256), interpolation=cv2.INTER_AREA)\n",
    "\n",
    "    xaxis += 100\n",
    "    yaxis -= 4\n",
    "\n",
    "    print(\"saved axis info in : {}\".format(axisPath))\n",
    "    np.save(os.path.join(axisPath, \"xAxis.npy\"), xaxis)\n",
    "    np.save(os.path.join(axisPath, \"yAxis.npy\"), yaxis)\n",
    "    \n",
    "    return xaxis, yaxis"
   ]
  },
  {
   "cell_type": "code",
   "execution_count": 36,
   "id": "d17a5464",
   "metadata": {},
   "outputs": [
    {
     "name": "stdout",
     "output_type": "stream",
     "text": [
      "saved axis info in : /DATA/phan92/notebooks\n"
     ]
    }
   ],
   "source": [
    "# extract generic axis information\n",
    "axisPath = \"/DATA/phan92/notebooks\"\n",
    "rand_input_file = \"/DATA/phan92/test_resource/raw_data/DoD110/DoD110_Ter002_LO1_Displacement_Normalized_3.mat\"\n",
    "xAxis, yAxis = extract_axis(rand_input_file, axisPath)"
   ]
  },
  {
   "cell_type": "code",
   "execution_count": null,
   "id": "667f112f",
   "metadata": {},
   "outputs": [],
   "source": [
    "# extract specific axis information of a patient\n",
    "axisPath = \"/DATA/phan92/notebooks\"\n",
    "input_file = \"/DATA/phan92/tbi_diagnosis/data/raw/cardiac_displacement_3_updated_Oct13/DoD042/DoD042_Ter015_LO5_Displacement_Normalized_3.mat\"\n",
    "xAxis, yAxis = extract_axis(input_file, axisPath)"
   ]
  },
  {
   "cell_type": "code",
   "execution_count": 3,
   "id": "01edfe1f",
   "metadata": {},
   "outputs": [],
   "source": [
    "def normalize_displacement(displace_data):\n",
    "    \"\"\"\n",
    "    Normalize displacement data\n",
    "\n",
    "    Args:\n",
    "        displace_data (numpy array): 10 points of displacement data in a cardiac cycle\n",
    "    Return:\n",
    "        displace_data (numpy array): normalized 10 points of displacement\n",
    "    \"\"\"\n",
    "    displace_data = displace_data - displace_data.mean(axis=0).mean(axis = 0)\n",
    "    safe_max = np.abs(displace_data).max(axis=0).max(axis=0)\n",
    "    safe_max[safe_max == 0] = 1\n",
    "    displace_data = displace_data / safe_max\n",
    "    displace_data = cv2.resize(displace_data, (80, 256))\n",
    "\n",
    "    return displace_data"
   ]
  },
  {
   "cell_type": "code",
   "execution_count": 4,
   "id": "10b50f9f",
   "metadata": {},
   "outputs": [],
   "source": [
    "def extract_displace_data(rawData):\n",
    "    \"\"\"\n",
    "    Extract the displacement data from a patient file.\n",
    "    Ignore the last cardiac cycle.\n",
    "    Take 10 points from the start of a cardiac cycel\n",
    "\n",
    "    Args:\n",
    "        rawData (raw from .mat): raw data loaded from .mat file\n",
    "\n",
    "    Return:\n",
    "        displace_data (numpy array): displacement data\n",
    "    \"\"\"\n",
    "    displacement = np.array(list(rawData['displacement']))\n",
    "    hrTimes = np.array(list(rawData['hrTimes']))\n",
    "    hrShape = hrTimes.shape\n",
    "    disShape = displacement.shape\n",
    "    displace_data = np.zeros([disShape[0], disShape[1], 10, hrShape[1] - 1])\n",
    "    for h in range(0, hrShape[1] - 1):\n",
    "        start = int(math.ceil(30 * hrTimes[0, h]))\n",
    "        displace_data[:, :, :, h] = displacement[:, :, start: start + 10]\n",
    "    \n",
    "    return np.array(displace_data.astype('float64'))"
   ]
  },
  {
   "cell_type": "code",
   "execution_count": 5,
   "id": "63c490fa",
   "metadata": {},
   "outputs": [],
   "source": [
    "def process_patients(path, objective, patient_nums=None):\n",
    "    \"\"\"\n",
    "    Process data of all patients\n",
    "\n",
    "    Args:\n",
    "        path (string): path to folder storing patient data\n",
    "        objective (integer): 0-brain mask, 1-blood mask\n",
    "        patient_nums (list(string)): list of patient numbers to process;\n",
    "                                process all if None is given;\n",
    "                                format: DoDxxx\n",
    "    Return:\n",
    "        1. numpy array of displacement data, label, and bMode\n",
    "        2. list of patient files\n",
    "    \"\"\"\n",
    "    patients_data = []\n",
    "    file_list = []\n",
    "    \n",
    "    # process all if no patient number is given\n",
    "    if patient_nums is None:\n",
    "        for patient in os.listdir(path):\n",
    "            dataPath = os.path.join(path, patient)\n",
    "            data, fileNames = process_data(path=dataPath, objective=objective)\n",
    "            patients_data.extend(data)\n",
    "            file_list.extend(fileNames)\n",
    "    # process only the given patients\n",
    "    else:\n",
    "        for patient_num in patient_nums:\n",
    "            if os.path.isdir(os.path.join(path, patient_num)):\n",
    "                dataPath = os.path.join(path, patient_num)\n",
    "                data, fileNames = process_data(path=dataPath, objective=objective)\n",
    "                patients_data.extend(data)\n",
    "                file_list.extend(fileNames)\n",
    "            else:\n",
    "                print('Patient' + patient_num + 'does not exist')\n",
    "    \n",
    "    return np.array(patients_data), np.array(file_list)"
   ]
  },
  {
   "cell_type": "code",
   "execution_count": 6,
   "id": "c5c38f26",
   "metadata": {},
   "outputs": [],
   "source": [
    "def process_data(path, objective):\n",
    "    \"\"\"\n",
    "    Process the raw data for a patient\n",
    "    \"\"\"\n",
    "    # list of input images\n",
    "    data = []\n",
    "    # list of file names\n",
    "    fileNames = []\n",
    "    # process all file in the directory\n",
    "    for file in os.listdir(path):\n",
    "        if \".mat\" in file:\n",
    "            filePath = os.path.join(path, file)\n",
    "            fileName = file[0:17]\n",
    "            rawData = loadmat(filePath)\n",
    "            # get the labels\n",
    "            normalMask = np.array(list(rawData['normalMask'])) \n",
    "            bloodMask = np.array(list(rawData['bloodMaskThick']))\n",
    "            brainMask = np.array(list(rawData['brainMask']))\n",
    "            bMode = np.array(list(rawData['bModeNorm']))\n",
    "\n",
    "            if len(bloodMask) == 0:\n",
    "                break\n",
    "            \n",
    "            # extract the displacement data\n",
    "            displace_data = extract_displace_data(rawData)\n",
    "            \n",
    "            # resize the masks\n",
    "            normalMask = cv2.resize(normalMask, (80, 256))\n",
    "            bloodMask = cv2.resize(bloodMask, (80, 256))\n",
    "            brainMask = cv2.resize(brainMask, (80, 256))\n",
    "            bMode = np.log10(bMode)\n",
    "            bMode = bMode.astype('float64')\n",
    "            bMode = np.mean(bMode, axis=2)\n",
    "\n",
    "            # create label\n",
    "            if objective == 0:\n",
    "                label = np.where(brainMask == 0, 0, 1)\n",
    "            else:\n",
    "                label = bloodMask + 1\n",
    "                label = label.astype('float32')\n",
    "                label = np.where(brainMask == 0, 0, label)\n",
    "\n",
    "            label = label.reshape([256, 80, 1])\n",
    "            n_cycles = displace_data.shape[-1]\n",
    "\n",
    "            # normalize\n",
    "            for k in range(0, n_cycles):\n",
    "                displace_data0 = displace_data[:, :, :, k]\n",
    "                displace_data0 = normalize_displacement(displace_data0)\n",
    "               \n",
    "                bMode0 = bMode[:, :, k]\n",
    "                bMode0 = cv2.resize(bMode0, (80, 256))\n",
    "                bMode0 = bMode0.reshape([256, 80, 1])\n",
    "\n",
    "                if objective == 1:\n",
    "                    # delete non-brain from input\n",
    "                    for i in range(0, displace_data0.shape[-1]):\n",
    "                        displace_data0[:, :, i] = np.where(brainMask == 0, 0.0, displace_data0[:, :, i])\n",
    "\n",
    "                # concatenate into one structure\n",
    "                sample = np.concatenate((label, displace_data0, bMode0), axis=2)\n",
    "                \n",
    "                data.append(sample)\n",
    "                fileNames.append(fileName + '_cycle' + str(k + 1))\n",
    "    return data, fileNames"
   ]
  },
  {
   "cell_type": "code",
   "execution_count": 7,
   "id": "5d3b96b0",
   "metadata": {},
   "outputs": [],
   "source": [
    "def split_data(data, nameList, savePath, test_size=0.2, random_state=42):\n",
    "    \"\"\"\n",
    "    Split the data into train and test set and save to file\n",
    "    \n",
    "    Args:\n",
    "        data (numpy array): the data to operate on\n",
    "        pathList (numpy array): the list of file name correspond to the data\n",
    "        test_size (float): the propotion of the test set\n",
    "        random_state (int): maintain the consistency between the data and file names\n",
    "    \n",
    "    Return: None\n",
    "    \"\"\"\n",
    "    train_data, test_data, train_list, test_list = train_test_split(\n",
    "                                                        data, \n",
    "                                                        nameList,\n",
    "                                                        test_size=test_size,\n",
    "                                                        random_state=random_state\n",
    "                                                    )\n",
    "    np.save(os.path.join(savePath, \"TrainingData.npy\"), train_data)\n",
    "    np.save(os.path.join(savePath, \"TestingData.npy\"), test_data)\n",
    "    np.save(os.path.join(savePath, \"TrainingPaths.npy\"), train_list)\n",
    "    np.save(os.path.join(savePath, \"TestingPaths.npy\"), test_list)"
   ]
  },
  {
   "cell_type": "code",
   "execution_count": 8,
   "id": "5af4aa68",
   "metadata": {},
   "outputs": [],
   "source": [
    "def disp_input(x, xAxis, yAxis, displacement_pos):\n",
    "    \"\"\"\n",
    "    Display an input\n",
    "    \n",
    "    @param: x: numpy array contain the data, bmode, and mask\n",
    "    @param: displacement_pos: position of the extracted displacement (1 - 10)\n",
    "    @param: xAxis: the rescale axis used to display cone shape\n",
    "    @param: yAxis: the rescale axis used to display cone shape\n",
    "    \"\"\"\n",
    "    \n",
    "    image = x\n",
    "    # get the label\n",
    "    label = image[:, :, 0]\n",
    "    label.reshape([256, 80])\n",
    "    # get bmode\n",
    "    bmode = image[:, :, 11]\n",
    "    bmode.reshape([256, 80])\n",
    "    _, bin_edges = np.histogram(image, bins=25)\n",
    "    # get displacement\n",
    "    displacement = image[:, :, displacement_pos]\n",
    "    displacement.reshape([256, 80])\n",
    "    # display\n",
    "    fig, ax = plt.subplots(1, 3, figsize=(24, 6))\n",
    "    ax[0].pcolormesh(xAxis, -yAxis, label, shading='auto', cmap='magma', vmin=0, vmax=2)\n",
    "    ax[1].pcolormesh(xAxis, -yAxis, bmode, shading='auto', cmap='binary', vmin=bin_edges[2], vmax=bin_edges[-2])\n",
    "    ax[2].pcolormesh(xAxis, -yAxis, displacement, shading='auto')\n",
    "    \n",
    "    plt.show()"
   ]
  },
  {
   "cell_type": "code",
   "execution_count": 9,
   "id": "185692ab",
   "metadata": {},
   "outputs": [],
   "source": [
    "IPH_patients = [8, 9, 10, 12, 22, 47, 53, 62, 66, 67, 69, 74, 75, 78, 85, 89, 93,\n",
    "                101, 105, 107, 110, 112, 113, 120, 121, 126, 129, 130, 133]\n",
    "\n",
    "old_bad_patients = [1, 14, 22, 23, 27, 28, 32, 34, 35, 36, 37, 38, 39, 44, 49, 69, 71, \n",
    "                78, 82, 90, 98, 101, 121, 124, 128, 133, 928]\n",
    "\n",
    "bad_patients = [27, 28, 35, 36, 38, 49, 69, 90]"
   ]
  },
  {
   "cell_type": "code",
   "execution_count": null,
   "id": "e5263e8f",
   "metadata": {},
   "outputs": [],
   "source": [
    "# get data from file\n",
    "data, fileList = process_patients(data_dir, objective=1, patient_nums=['DoD009'])"
   ]
  },
  {
   "cell_type": "code",
   "execution_count": null,
   "id": "805824d3",
   "metadata": {},
   "outputs": [],
   "source": [
    "data.shape"
   ]
  },
  {
   "cell_type": "code",
   "execution_count": null,
   "id": "1b89e05d",
   "metadata": {},
   "outputs": [],
   "source": [
    "fileList"
   ]
  },
  {
   "cell_type": "code",
   "execution_count": null,
   "id": "41ffcbb4",
   "metadata": {},
   "outputs": [],
   "source": [
    "disp_input(data[1,:,:,:], xAxis, yAxis, displacement_pos=1)"
   ]
  },
  {
   "cell_type": "code",
   "execution_count": null,
   "id": "e6141439",
   "metadata": {},
   "outputs": [],
   "source": []
  },
  {
   "cell_type": "code",
   "execution_count": null,
   "id": "79dd6240",
   "metadata": {},
   "outputs": [],
   "source": []
  },
  {
   "cell_type": "code",
   "execution_count": null,
   "id": "3d4af6c1",
   "metadata": {},
   "outputs": [],
   "source": [
    "# get data from file\n",
    "data, fileList = process_patients(data_dir, objective=1, patient_nums=['DoD010'])"
   ]
  },
  {
   "cell_type": "code",
   "execution_count": null,
   "id": "1057c1a3",
   "metadata": {},
   "outputs": [],
   "source": [
    "data.shape"
   ]
  },
  {
   "cell_type": "code",
   "execution_count": null,
   "id": "605cc1bf",
   "metadata": {},
   "outputs": [],
   "source": [
    "disp_input(data[1,:,:,:], xAxis, yAxis, displacement_pos=1)"
   ]
  },
  {
   "cell_type": "code",
   "execution_count": null,
   "id": "3d0587ee",
   "metadata": {},
   "outputs": [],
   "source": []
  },
  {
   "cell_type": "code",
   "execution_count": null,
   "id": "dbe74f21",
   "metadata": {},
   "outputs": [],
   "source": []
  },
  {
   "cell_type": "code",
   "execution_count": null,
   "id": "94beecc9",
   "metadata": {},
   "outputs": [],
   "source": []
  },
  {
   "cell_type": "code",
   "execution_count": null,
   "id": "c4e414b9",
   "metadata": {},
   "outputs": [],
   "source": []
  },
  {
   "cell_type": "code",
   "execution_count": 10,
   "id": "3d994476",
   "metadata": {},
   "outputs": [],
   "source": [
    "def normalize_displacement_2(displace_data):\n",
    "    \"\"\"\n",
    "    Normalize displacement data\n",
    "\n",
    "    Args:\n",
    "        displace_data (numpy array): 10 points of displacement data in a cardiac cycle\n",
    "    Return:\n",
    "        displace_data (numpy array): normalized 10 points of displacement\n",
    "    \"\"\"\n",
    "    \n",
    "    displace_data = displace_data - displace_data.mean(axis=0)\n",
    "    safe_max = np.abs(displace_data).max(axis=0)\n",
    "    safe_max[safe_max == 0] = 1\n",
    "    displace_data = displace_data / safe_max\n",
    "    displace_data = cv2.resize(displace_data, (80, 256))\n",
    "\n",
    "    return displace_data"
   ]
  },
  {
   "cell_type": "code",
   "execution_count": 11,
   "id": "fcc24d09",
   "metadata": {},
   "outputs": [],
   "source": [
    "def extract_displace_data_2(rawData, cardiac_cycle=2, displacement_pos=1):\n",
    "    \"\"\"\n",
    "    Extract the displacement data from a patient file.\n",
    "    Ignore the last cardiac cycle.\n",
    "    Take 10 points from the start of a cardiac cycel\n",
    "\n",
    "    @param: rawData (raw from .mat): raw data loaded from .mat file\n",
    "    @param: cardiac_cycle: number of the th cycle to extract data from\n",
    "    @param: displacement_pos: the location of the displacement after the start\n",
    "                            of the cardiac cycle \n",
    "\n",
    "    @return: displace_data (numpy array): displacement data\n",
    "    \"\"\"\n",
    "    displacement = np.array(list(rawData['displacement']))\n",
    "    hrTimes = np.array(list(rawData['hrTimes']))\n",
    "    disShape = displacement.shape\n",
    "    # extract data from the cardiac_cycle th cycle\n",
    "    start = int(math.ceil(30 * hrTimes[0, cardiac_cycle]))\n",
    "    displace_data = np.zeros([disShape[0], disShape[1], 1])\n",
    "    # take the th displacement after the start of a cardiac cycle\n",
    "    displace_data[:,:,0] = displacement[:, :, start + displacement_pos]\n",
    "    \n",
    "    return np.array(displace_data.astype('float64'))"
   ]
  },
  {
   "cell_type": "code",
   "execution_count": 13,
   "id": "a8dafc93",
   "metadata": {},
   "outputs": [],
   "source": [
    "def process_data_2(path, objective):\n",
    "    \"\"\"\n",
    "    Process the raw data for a patient\n",
    "    \n",
    "    @param: path: path to the data file\n",
    "    @param: objective: the objective of processing (0 to find skull, 1 to find bleed)\n",
    "    \n",
    "    @return: data: processed data\n",
    "    @return: fileNames: associated file names\n",
    "    \"\"\"\n",
    "    # list of input images\n",
    "    data = []\n",
    "    # list of file names\n",
    "    fileNames = []\n",
    "    # process all file in the directory\n",
    "    for file in os.listdir(path):\n",
    "        if \".mat\" in file:\n",
    "            filePath = os.path.join(path, file)\n",
    "            fileName = file[0:17]\n",
    "            rawData = loadmat(filePath)\n",
    "            # get the labels\n",
    "            normalMask = np.array(list(rawData['normalMask'])) \n",
    "            bloodMask = np.array(list(rawData['bloodMaskThick']))\n",
    "            brainMask = np.array(list(rawData['brainMask']))\n",
    "            bMode = np.array(list(rawData['bModeNorm']))\n",
    "\n",
    "            if len(bloodMask) == 0:\n",
    "                break\n",
    "            \n",
    "            # extract the displacement data\n",
    "            displace_data = extract_displace_data_2(rawData)\n",
    "            \n",
    "            # resize the masks\n",
    "            normalMask = cv2.resize(normalMask, (80, 256))\n",
    "            bloodMask = cv2.resize(bloodMask, (80, 256))\n",
    "            brainMask = cv2.resize(brainMask, (80, 256))\n",
    "            bMode = np.log10(bMode)\n",
    "            bMode = bMode.astype('float64')\n",
    "            bMode = np.mean(bMode, axis=2)\n",
    "\n",
    "            # create label\n",
    "            if objective == 0:\n",
    "                label = np.where(brainMask == 0, 0, 1)\n",
    "            else:\n",
    "                label = bloodMask + 1\n",
    "                label = label.astype('float32')\n",
    "                label = np.where(brainMask == 0, 0, label)\n",
    "\n",
    "            label = label.reshape([256, 80, 1])\n",
    "            n_cycles = displace_data.shape[-1]\n",
    "\n",
    "            # normalize\n",
    "            displace_data = normalize_displacement(displace_data)\n",
    "            #displace_data = displace_data * 255\n",
    "            #displace_data = cv2.resize(displace_data, (80, 256))\n",
    "            displace_data = displace_data.reshape([256, 80, 1])\n",
    "            \n",
    "            # take the 4th bModeNorm\n",
    "            bMode = bMode[:, :, 3]\n",
    "            bMode = cv2.resize(bMode, (80, 256))\n",
    "            bMode = bMode.reshape([256, 80, 1])\n",
    "\n",
    "            if objective == 1:\n",
    "                # delete non-brain from input\n",
    "                displace_data[:,:,0] = np.where(brainMask == 0, 0.0, displace_data[:,:,0])\n",
    "\n",
    "            # concatenate into one structure\n",
    "            sample = np.concatenate((label, displace_data, bMode), axis=2)\n",
    "\n",
    "            data.append(sample)\n",
    "            fileNames.append(fileName)\n",
    "    return data, fileNames"
   ]
  },
  {
   "cell_type": "code",
   "execution_count": 14,
   "id": "12394726",
   "metadata": {},
   "outputs": [],
   "source": [
    "def process_patients_2(path, objective, patient_nums=None):\n",
    "    \"\"\"\n",
    "    Process data of all patients\n",
    "\n",
    "    Args:\n",
    "        path (string): path to folder storing patient data\n",
    "        objective (integer): 0-brain mask, 1-blood mask\n",
    "        patient_nums (list(string)): list of patient numbers to process;\n",
    "                                process all if None is given;\n",
    "                                format: DoDxxx\n",
    "    Return:\n",
    "        1. numpy array of displacement data, label, and bMode\n",
    "        2. list of patient files\n",
    "    \"\"\"\n",
    "    patients_data = []\n",
    "    file_list = []\n",
    "    \n",
    "    # process all if no patient number is given\n",
    "    if patient_nums is None:\n",
    "        for patient in os.listdir(path):\n",
    "            dataPath = os.path.join(path, patient)\n",
    "            data, fileNames = process_data_2(path=dataPath, objective=objective)\n",
    "            patients_data.extend(data)\n",
    "            file_list.extend(fileNames)\n",
    "    # process only the given patients\n",
    "    else:\n",
    "        for patient_num in patient_nums:\n",
    "            if os.path.isdir(os.path.join(path, patient_num)):\n",
    "                dataPath = os.path.join(path, patient_num)\n",
    "                data, fileNames = process_data_2(path=dataPath, objective=objective)\n",
    "                patients_data.extend(data)\n",
    "                file_list.extend(fileNames)\n",
    "            else:\n",
    "                print('Patient' + patient_num + 'does not exist')\n",
    "    \n",
    "    return np.array(patients_data), np.array(file_list)"
   ]
  },
  {
   "cell_type": "code",
   "execution_count": 15,
   "id": "3f057367",
   "metadata": {},
   "outputs": [],
   "source": [
    "def disp_input_2(x, xAxis, yAxis):\n",
    "    \"\"\"\n",
    "    Display an input\n",
    "    \n",
    "    @param: x: numpy array contain the data, bmode, and mask\n",
    "    @param: mode: chose to display the data, bmode, or mask\n",
    "    \"\"\"\n",
    "    \n",
    "    image = x\n",
    "    # get the label\n",
    "    label = image[:, :, 0]\n",
    "    label.reshape([256, 80])\n",
    "    # get bmode\n",
    "    bmode = image[:, :, 2]\n",
    "    bmode.reshape([256, 80])\n",
    "    _, bin_edges = np.histogram(image, bins=25)\n",
    "    # get displacement\n",
    "    displacement = image[:, :, 1]\n",
    "    displacement.reshape([256, 80])\n",
    "    # display\n",
    "    fig, ax = plt.subplots(1, 3, figsize=(24, 6))\n",
    "    ax[0].pcolormesh(xAxis, -yAxis, label, shading='auto', cmap='magma', vmin=0, vmax=2)\n",
    "    ax[1].pcolormesh(xAxis, -yAxis, bmode, shading='auto', cmap='binary', vmin=bin_edges[2], vmax=bin_edges[-2])\n",
    "    ax[2].pcolormesh(xAxis, -yAxis, displacement, shading='auto')\n",
    "    \n",
    "    plt.show()"
   ]
  },
  {
   "cell_type": "code",
   "execution_count": null,
   "id": "acf83bea",
   "metadata": {},
   "outputs": [],
   "source": [
    "# get data from file\n",
    "data_2, fileList_2 = process_patients_2(data_dir, objective=1, patient_nums=['DoD009'])"
   ]
  },
  {
   "cell_type": "code",
   "execution_count": null,
   "id": "ab8d6a92",
   "metadata": {},
   "outputs": [],
   "source": [
    "fileList_2"
   ]
  },
  {
   "cell_type": "code",
   "execution_count": null,
   "id": "e7d9e418",
   "metadata": {},
   "outputs": [],
   "source": [
    "data_2.shape"
   ]
  },
  {
   "cell_type": "code",
   "execution_count": null,
   "id": "6efe55c7",
   "metadata": {},
   "outputs": [],
   "source": [
    "disp_input_2(data_2[0,:,:,:], xAxis, yAxis)"
   ]
  },
  {
   "cell_type": "code",
   "execution_count": null,
   "id": "64c0ade0",
   "metadata": {},
   "outputs": [],
   "source": []
  },
  {
   "cell_type": "code",
   "execution_count": null,
   "id": "73ca59ac",
   "metadata": {},
   "outputs": [],
   "source": []
  },
  {
   "cell_type": "code",
   "execution_count": 16,
   "id": "acc82378",
   "metadata": {},
   "outputs": [],
   "source": [
    "def process_data_2(path, objective):\n",
    "    \"\"\"\n",
    "    Process the raw data for a patient\n",
    "    \n",
    "    @param: path: path to the data file\n",
    "    @param: objective: the objective of processing (0 to find skull, 1 to find bleed)\n",
    "    \n",
    "    @return: data: processed data\n",
    "    @return: fileNames: associated file names\n",
    "    \"\"\"\n",
    "    # list of displacement\n",
    "    displacement_list = []\n",
    "    # list of bMode\n",
    "    bMode_list = []\n",
    "    #list of labels\n",
    "    label_list = []\n",
    "    # list of file names\n",
    "    fileNames = []\n",
    "    # process all file in the directory\n",
    "    for file in os.listdir(path):\n",
    "        if \".mat\" in file:\n",
    "            filePath = os.path.join(path, file)\n",
    "            fileName = file[0:17]\n",
    "            rawData = loadmat(filePath)\n",
    "            # get the labels\n",
    "            normalMask = np.array(list(rawData['normalMask'])) \n",
    "            bloodMask = np.array(list(rawData['bloodMaskThick']))\n",
    "            brainMask = np.array(list(rawData['brainMask']))\n",
    "            bMode = np.array(list(rawData['bModeNorm']))\n",
    "\n",
    "            if len(bloodMask) == 0:\n",
    "                break\n",
    "            \n",
    "            # extract the displacement data\n",
    "            displace_data = extract_displace_data_2(rawData)\n",
    "            \n",
    "            # resize the masks\n",
    "            normalMask = cv2.resize(normalMask, (80, 256))\n",
    "            bloodMask = cv2.resize(bloodMask, (80, 256))\n",
    "            brainMask = cv2.resize(brainMask, (80, 256))\n",
    "            bMode = np.log10(bMode)\n",
    "            bMode = bMode.astype('float64')\n",
    "            bMode = np.mean(bMode, axis=2)\n",
    "\n",
    "            # create label\n",
    "            if objective == 0:\n",
    "                label = np.where(brainMask == 0, 0, 1)\n",
    "            else:\n",
    "                label = bloodMask + 1\n",
    "                label = label.astype('float32')\n",
    "                label = np.where(brainMask == 0, 0, label)\n",
    "\n",
    "            label = label.reshape([256, 80, 1])\n",
    "            n_cycles = displace_data.shape[-1]\n",
    "\n",
    "            # normalize\n",
    "            displace_data = normalize_displacement(displace_data)\n",
    "            #displace_data = displace_data * 255\n",
    "            #displace_data = cv2.resize(displace_data, (80, 256))\n",
    "            displace_data = displace_data.reshape([256, 80, 1])\n",
    "            \n",
    "            # take the 4th bModeNorm\n",
    "            bMode = bMode[:, :, 3]\n",
    "            bMode = cv2.resize(bMode, (80, 256))\n",
    "            bMode = bMode.reshape([256, 80, 1])\n",
    "\n",
    "            if objective == 1:\n",
    "                # delete non-brain from input\n",
    "                displace_data[:,:,0] = np.where(brainMask == 0, 0.0, displace_data[:,:,0])\n",
    "\n",
    "            # concatenate into one structure\n",
    "            #sample = np.concatenate((label, displace_data, bMode), axis=2)\n",
    "\n",
    "            displacement_list.append(displace_data)\n",
    "            label_list.append(label)\n",
    "            bMode_list.append(bMode)\n",
    "            fileNames.append(fileName)\n",
    "    return displacement_list, label_list, bMode_list, fileNames"
   ]
  },
  {
   "cell_type": "code",
   "execution_count": 17,
   "id": "f33ecdc7",
   "metadata": {},
   "outputs": [],
   "source": [
    "def process_patients_2(path, objective, patient_nums=None):\n",
    "    \"\"\"\n",
    "    Process data of all patients\n",
    "\n",
    "    Args:\n",
    "        path (string): path to folder storing patient data\n",
    "        objective (integer): 0-brain mask, 1-blood mask\n",
    "        patient_nums (list(string)): list of patient numbers to process;\n",
    "                                process all if None is given;\n",
    "                                format: DoDxxx\n",
    "    Return:\n",
    "        1. numpy array of displacement data, label, and bMode\n",
    "        2. list of patient files\n",
    "    \"\"\"\n",
    "    displacement_list = []\n",
    "    label_list = []\n",
    "    bMode_list = []\n",
    "    file_list = []\n",
    "    \n",
    "    # process all if no patient number is given\n",
    "    if patient_nums is None:\n",
    "        for patient in os.listdir(path):\n",
    "            dataPath = os.path.join(path, patient)\n",
    "            displacement, label, bMode, fileNames = process_data_2(path=dataPath, objective=objective)\n",
    "            displacement_list.extend(displacement)\n",
    "            label_list.extend(label)\n",
    "            bMode_list.extend(bMode)\n",
    "            file_list.extend(fileNames)\n",
    "    # process only the given patients\n",
    "    else:\n",
    "        for patient_num in patient_nums:\n",
    "            if os.path.isdir(os.path.join(path, patient_num)):\n",
    "                dataPath = os.path.join(path, patient_num)\n",
    "                displacement, label, bMode, fileNames = process_data_2(path=dataPath, objective=objective)\n",
    "                displacement_list.extend(displacement)\n",
    "                label_list.extend(label)\n",
    "                bMode_list.extend(bMode)\n",
    "                file_list.extend(fileNames)\n",
    "            else:\n",
    "                print('Patient' + patient_num + 'does not exist')\n",
    "    \n",
    "    return np.array(displacement_list), np.array(label_list), np.array(bMode_list), np.array(file_list)"
   ]
  },
  {
   "cell_type": "code",
   "execution_count": null,
   "id": "134641ee",
   "metadata": {},
   "outputs": [],
   "source": [
    "# get data from file\n",
    "displacement, label, bMode, fileList = process_patients_2(data_dir, objective=1, patient_nums=['DoD009', 'DoD008'])"
   ]
  },
  {
   "cell_type": "code",
   "execution_count": null,
   "id": "30bccd22",
   "metadata": {},
   "outputs": [],
   "source": [
    "displacement.shape"
   ]
  },
  {
   "cell_type": "code",
   "execution_count": null,
   "id": "2d1d1165",
   "metadata": {},
   "outputs": [],
   "source": [
    "label.shape"
   ]
  },
  {
   "cell_type": "code",
   "execution_count": null,
   "id": "ab64f7d4",
   "metadata": {},
   "outputs": [],
   "source": [
    "bMode.shape"
   ]
  },
  {
   "cell_type": "code",
   "execution_count": null,
   "id": "f9a41b1e",
   "metadata": {},
   "outputs": [],
   "source": [
    "fileList.shape"
   ]
  },
  {
   "cell_type": "code",
   "execution_count": null,
   "id": "7472c484",
   "metadata": {},
   "outputs": [],
   "source": [
    "dis = np.moveaxis(displacement, 3, 1)"
   ]
  },
  {
   "cell_type": "code",
   "execution_count": null,
   "id": "08f68aa0",
   "metadata": {},
   "outputs": [],
   "source": [
    "dis.shape"
   ]
  },
  {
   "cell_type": "code",
   "execution_count": null,
   "id": "ef2abc3a",
   "metadata": {},
   "outputs": [],
   "source": [
    "dis[1].shape"
   ]
  },
  {
   "cell_type": "code",
   "execution_count": null,
   "id": "3ce73c95",
   "metadata": {},
   "outputs": [],
   "source": [
    "plt.pcolormesh(xAxis, -yAxis, np.squeeze(dis[0,:,:,:], axis=0), shading='auto')"
   ]
  },
  {
   "cell_type": "code",
   "execution_count": null,
   "id": "be0fc085",
   "metadata": {},
   "outputs": [],
   "source": []
  },
  {
   "cell_type": "code",
   "execution_count": 18,
   "id": "2421cd4f",
   "metadata": {},
   "outputs": [],
   "source": [
    "def one_hot(label, num_classes=3):\n",
    "    \"\"\"\n",
    "    Create one hot label from the provided label\n",
    "    \"\"\"\n",
    "    if num_classes == 2:\n",
    "        # create label to find brain tissue\n",
    "        # if the probability of brain is >= 0.5\n",
    "        # set the label to 1, 0 otherwise\n",
    "        label = np.where(label >= 0.5, 1, 0)\n",
    "        print(label.shape)\n",
    "    else:\n",
    "        # create label to find bleed\n",
    "        # if the probability of bleed is >= 0.3\n",
    "        # set the label to 1\n",
    "        label = np.where(label >= 1.3, 1, 0)\n",
    "        print(label.shape)\n",
    "    \n",
    "    return label"
   ]
  },
  {
   "cell_type": "code",
   "execution_count": 22,
   "id": "875b3117",
   "metadata": {},
   "outputs": [],
   "source": [
    "def make_hdf5(save_path, data_path):\n",
    "    \"\"\"\n",
    "    Make hdf5 data file\n",
    "    \n",
    "    @param: save_path: path to saved file\n",
    "    @param: data_path: path to raw data\n",
    "    \"\"\"\n",
    "    \n",
    "    # process data\n",
    "    displacement, label, bMode, fileNames = process_patients_2(data_path, objective=1, patient_nums=['DoD009'])\n",
    "    \n",
    "    # change the dimensions of displacement\n",
    "    # from (N, x_dim, y_dim, n_channel)\n",
    "    # to (N, n_channel, x_dim, y_dim)\n",
    "    displacement = np.moveaxis(displacement, 3, 1)\n",
    "    \n",
    "    # remove the n_channel from label and bMode\n",
    "    # from (N, x_dim, y_dim, n_channel = 1)\n",
    "    # to (N, x_dim, y_dim)\n",
    "    label = np.squeeze(label, axis=3)\n",
    "    bMode = np.squeeze(bMode, axis=3)\n",
    "    \n",
    "    # convert label to one hot\n",
    "    # shape (N, n_class, x_dim, y_dim)\n",
    "    label = one_hot(label)\n",
    "    label = np.moveaxis(label, 3,1)\n",
    "    \n",
    "    # create a hdf5 file\n",
    "    f = h5py.File(os.path.join(save_path,'displacement_data.hdf5'), 'w')\n",
    "    \n",
    "    training_group = f.create_group(\"training\")\n",
    "    testing_group = f.create_group('testing')\n",
    "    \n",
    "    # shuffle the dataset\n",
    "    displacement, label, bMode, fileNames = sklearn.utils.shuffle(displacement, \n",
    "                                                                  label, \n",
    "                                                                  bMode, \n",
    "                                                                  fileNames, \n",
    "                                                                  random_state=0)\n",
    "    \n",
    "    num_examples = displacement.shape[0]\n",
    "    # add data to the defined data buckets\n",
    "    _add_dataset(training_group, \n",
    "                 displacement[0: int(0.8*num_examples)],\n",
    "                 label[0: int(0.8*num_examples)],\n",
    "                 bMode[0: int(0.8*num_examples)],\n",
    "                 fileNames[0: int(0.8*num_examples)])\n",
    "    _add_dataset(testing_group, \n",
    "                 displacement[int(0.8*num_examples):], \n",
    "                 label[int(0.8*num_examples):],\n",
    "                 bMode[int(0.8*num_examples):],\n",
    "                 fileNames[int(0.8*num_examples):])\n",
    "    \n",
    "    f.close()"
   ]
  },
  {
   "cell_type": "code",
   "execution_count": 23,
   "id": "ad619127",
   "metadata": {},
   "outputs": [],
   "source": [
    "def _add_dataset(group: h5py.Group, displacement, label, bMode, fileNames):\n",
    "    \"\"\"\n",
    "    Add a dataset to h5py group\n",
    "    The saved data have shapes:\n",
    "        x (N, nchannel, 256, 80)\n",
    "        y (N, n_class, 256, 80)\n",
    "        bMode (N, 256, 80)\n",
    "        names (N, 1)\n",
    "    \n",
    "    @param: group: h5py group\n",
    "    @param: displacement: displacement data (N, n_channel, x_dim, y_dim)\n",
    "    @param: label: label (N, n_class, x_dim, y_dim)\n",
    "    @param: bMode: bMode ultrasound (N, x_dim, y_dim)\n",
    "    @param: fileNames: file names of the displacement data (N,)\n",
    "    \"\"\"\n",
    "    # convert the label to a ASCII format for h5py\n",
    "    asciiList = [name.encode(\"ascii\", \"ignore\") for name in fileNames]\n",
    "    \n",
    "    x = group.create_dataset('x', data=displacement)\n",
    "    y = group.create_dataset('y', data=label)\n",
    "    bMode = group.create_dataset('bMode', data=bMode)\n",
    "    filename = group.create_dataset('filename', data=asciiList)"
   ]
  },
  {
   "cell_type": "code",
   "execution_count": 25,
   "id": "eaf0eeaf",
   "metadata": {},
   "outputs": [],
   "source": [
    "make_hdf5('/DATA/phan92/tbi_diagnosis/data/processed', data_dir)"
   ]
  },
  {
   "cell_type": "code",
   "execution_count": 26,
   "id": "10e70469",
   "metadata": {},
   "outputs": [],
   "source": [
    "dataset = h5py.File('/DATA/phan92/tbi_diagnosis/data/processed/displacement_data.hdf5', 'r')"
   ]
  },
  {
   "cell_type": "code",
   "execution_count": 27,
   "id": "7cfba5fe",
   "metadata": {},
   "outputs": [],
   "source": [
    "test = dataset['testing']"
   ]
  },
  {
   "cell_type": "code",
   "execution_count": 28,
   "id": "54b777cf",
   "metadata": {},
   "outputs": [],
   "source": [
    "x = test['x']"
   ]
  },
  {
   "cell_type": "code",
   "execution_count": 29,
   "id": "2d110cc5",
   "metadata": {},
   "outputs": [
    {
     "data": {
      "text/plain": [
       "<HDF5 dataset \"x\": shape (6, 1, 256, 80), type \"<f8\">"
      ]
     },
     "execution_count": 29,
     "metadata": {},
     "output_type": "execute_result"
    }
   ],
   "source": [
    "x"
   ]
  },
  {
   "cell_type": "code",
   "execution_count": 30,
   "id": "53160081",
   "metadata": {},
   "outputs": [],
   "source": [
    "y = test['y']"
   ]
  },
  {
   "cell_type": "code",
   "execution_count": 31,
   "id": "cb2fba20",
   "metadata": {},
   "outputs": [
    {
     "data": {
      "text/plain": [
       "<HDF5 dataset \"y\": shape (6, 1, 256, 80), type \"<f4\">"
      ]
     },
     "execution_count": 31,
     "metadata": {},
     "output_type": "execute_result"
    }
   ],
   "source": [
    "y"
   ]
  },
  {
   "cell_type": "code",
   "execution_count": 32,
   "id": "156b7b9a",
   "metadata": {},
   "outputs": [],
   "source": [
    "y1 = y[1]"
   ]
  },
  {
   "cell_type": "code",
   "execution_count": 33,
   "id": "b807dd4d",
   "metadata": {},
   "outputs": [
    {
     "data": {
      "text/plain": [
       "2.0"
      ]
     },
     "execution_count": 33,
     "metadata": {},
     "output_type": "execute_result"
    }
   ],
   "source": [
    "np.max(y1)"
   ]
  },
  {
   "cell_type": "code",
   "execution_count": 38,
   "id": "0acc9d87",
   "metadata": {},
   "outputs": [
    {
     "name": "stderr",
     "output_type": "stream",
     "text": [
      "/tmp/ipykernel_38803/967203885.py:1: UserWarning: The input coordinates to pcolormesh are interpreted as cell centers, but are not monotonically increasing or decreasing. This may lead to incorrectly calculated cell edges, in which case, please supply explicit cell edges to pcolormesh.\n",
      "  plt.pcolormesh(xAxis, -yAxis, np.squeeze(y[0], axis=0), shading='auto')\n"
     ]
    },
    {
     "data": {
      "text/plain": [
       "<matplotlib.collections.QuadMesh at 0x7f270d863dc0>"
      ]
     },
     "execution_count": 38,
     "metadata": {},
     "output_type": "execute_result"
    },
    {
     "data": {
      "image/png": "[encoded data removed]",
      "text/plain": [
       "<Figure size 432x288 with 1 Axes>"
      ]
     },
     "metadata": {
      "needs_background": "light"
     },
     "output_type": "display_data"
    }
   ],
   "source": [
    "plt.pcolormesh(xAxis, -yAxis, np.squeeze(y[0], axis=0), shading='auto')"
   ]
  },
  {
   "cell_type": "code",
   "execution_count": null,
   "id": "237e8f17",
   "metadata": {},
   "outputs": [],
   "source": []
  },
  {
   "cell_type": "code",
   "execution_count": null,
   "id": "c5854cff",
   "metadata": {},
   "outputs": [],
   "source": []
  },
  {
   "cell_type": "code",
   "execution_count": null,
   "id": "2bf9d14c",
   "metadata": {},
   "outputs": [],
   "source": []
  },
  {
   "cell_type": "markdown",
   "id": "4da43b40",
   "metadata": {},
   "source": [
    "# Descriptive statistics of the data"
   ]
  },
  {
   "cell_type": "code",
   "execution_count": null,
   "id": "e54f557d",
   "metadata": {},
   "outputs": [],
   "source": [
    "rawDataPath = '/DATA/phan92/raw_data/cardiac_displacement_3_updated_Oct13'"
   ]
  },
  {
   "cell_type": "code",
   "execution_count": null,
   "id": "c79c3fa0",
   "metadata": {},
   "outputs": [],
   "source": [
    "data = []\n",
    "fileNames = []"
   ]
  },
  {
   "cell_type": "code",
   "execution_count": null,
   "id": "a39150db",
   "metadata": {},
   "outputs": [],
   "source": [
    "# collect the data\n",
    "for patient in os.listdir(rawDataPath):\n",
    "    print(patient)\n",
    "    patient_num = int(patient[3:])\n",
    "    print(patient_num)\n",
    "    if patient_num not in bad_patients:\n",
    "        patientPath = os.path.join(rawDataPath, patient)\n",
    "        for scan in os.listdir(patientPath):\n",
    "            scanPath = os.path.join(patientPath, scan)\n",
    "            fileNames.append(scanPath)\n",
    "            rawData = loadmat(scanPath)\n",
    "            displacement = np.array(list(rawData['displacement']))\n",
    "            hrTimes = np.array(list(rawData['hrTimes']))\n",
    "            hrShape = hrTimes.shape\n",
    "            disShape = displacement.shape\n",
    "            for h in range(0, hrShape[1] - 1):\n",
    "                start = int(math.ceil(30 * hrTimes[0, h]))\n",
    "                # get 10 points after start of a cardiac cycle\n",
    "                for i in range(0, 11):\n",
    "                    data.append(displacement[:, :, start + i])"
   ]
  },
  {
   "cell_type": "code",
   "execution_count": null,
   "id": "1ca99a78",
   "metadata": {},
   "outputs": [],
   "source": [
    "data = np.array(data)"
   ]
  },
  {
   "cell_type": "code",
   "execution_count": null,
   "id": "7f9ac249",
   "metadata": {},
   "outputs": [],
   "source": [
    "data.shape"
   ]
  },
  {
   "cell_type": "code",
   "execution_count": null,
   "id": "c919e4a9",
   "metadata": {},
   "outputs": [],
   "source": [
    "# collect the data\n",
    "for patient in os.listdir(rawDataPath):\n",
    "    print(patient)\n",
    "    patientPath = os.path.join(rawDataPath, patient)\n",
    "    for scan in os.listdir(patientPath):\n",
    "        scanPath = os.path.join(patientPath, scan)\n",
    "        fileNames.append(scanPath)\n",
    "        rawData = loadmat(scanPath)\n",
    "        data.append(np.array(rawData['displacement']))"
   ]
  },
  {
   "cell_type": "code",
   "execution_count": null,
   "id": "bc4aacb8",
   "metadata": {},
   "outputs": [],
   "source": [
    "average = []\n",
    "maximum = []\n",
    "minimum = []"
   ]
  },
  {
   "cell_type": "code",
   "execution_count": null,
   "id": "e733a077",
   "metadata": {},
   "outputs": [],
   "source": [
    "for sample in data:\n",
    "    average.append(np.mean(sample))\n",
    "    maximum.append(np.max(sample))\n",
    "    minimum.append(np.min(sample))"
   ]
  },
  {
   "cell_type": "code",
   "execution_count": null,
   "id": "592e0d43",
   "metadata": {},
   "outputs": [],
   "source": [
    "# max of maximum\n",
    "np.max(maximum)"
   ]
  },
  {
   "cell_type": "code",
   "execution_count": null,
   "id": "c269267e",
   "metadata": {},
   "outputs": [],
   "source": [
    "# min of maximum\n",
    "np.min(maximum)"
   ]
  },
  {
   "cell_type": "code",
   "execution_count": null,
   "id": "c42243be",
   "metadata": {},
   "outputs": [],
   "source": [
    "# average of maximum\n",
    "np.mean(maximum)"
   ]
  },
  {
   "cell_type": "code",
   "execution_count": null,
   "id": "82574d05",
   "metadata": {},
   "outputs": [],
   "source": [
    "# max of minimum\n",
    "np.max(minimum)"
   ]
  },
  {
   "cell_type": "code",
   "execution_count": null,
   "id": "861c35ab",
   "metadata": {},
   "outputs": [],
   "source": [
    "# min of minimum\n",
    "np.min(minimum)"
   ]
  },
  {
   "cell_type": "code",
   "execution_count": null,
   "id": "60f1687b",
   "metadata": {},
   "outputs": [],
   "source": [
    "# average of minimum\n",
    "np.mean(minimum)"
   ]
  },
  {
   "cell_type": "code",
   "execution_count": null,
   "id": "dd17c5ea",
   "metadata": {},
   "outputs": [],
   "source": [
    "max_by_99percentile = np.percentile(data, 99.0)"
   ]
  },
  {
   "cell_type": "code",
   "execution_count": null,
   "id": "2fdb94c4",
   "metadata": {},
   "outputs": [],
   "source": []
  },
  {
   "cell_type": "code",
   "execution_count": null,
   "id": "fa8d62f3",
   "metadata": {},
   "outputs": [],
   "source": [
    "# resize the data\n",
    "resized_data = []\n",
    "for sample in data:\n",
    "    resized_sample = cv2.resize(sample, (80, 256))\n",
    "    resized_data.append(resized_sample)"
   ]
  },
  {
   "cell_type": "code",
   "execution_count": null,
   "id": "15f4352d",
   "metadata": {},
   "outputs": [],
   "source": [
    "resized_data = np.array(resized_data)"
   ]
  },
  {
   "cell_type": "code",
   "execution_count": null,
   "id": "f29d753c",
   "metadata": {},
   "outputs": [],
   "source": [
    "resized_data.shape"
   ]
  },
  {
   "cell_type": "code",
   "execution_count": null,
   "id": "ea0cb251",
   "metadata": {},
   "outputs": [],
   "source": [
    "resized_sample = resized_data[0]"
   ]
  },
  {
   "cell_type": "code",
   "execution_count": null,
   "id": "a22b0309",
   "metadata": {},
   "outputs": [],
   "source": [
    "plt.pcolormesh(xAxis, -yAxis, resized_sample, shading='auto', cmap='nipy_spectral')\n",
    "plt.show()"
   ]
  },
  {
   "cell_type": "code",
   "execution_count": null,
   "id": "e83b73f7",
   "metadata": {},
   "outputs": [],
   "source": [
    "resized_average = []\n",
    "resized_maximum = []\n",
    "resized_minimum = []"
   ]
  },
  {
   "cell_type": "code",
   "execution_count": null,
   "id": "2e0a43ca",
   "metadata": {},
   "outputs": [],
   "source": [
    "for sample in resized_data:\n",
    "    resized_average.append(np.mean(sample))\n",
    "    resized_maximum.append(np.max(sample))\n",
    "    resized_minimum.append(np.min(sample))"
   ]
  },
  {
   "cell_type": "code",
   "execution_count": null,
   "id": "6d8c3a6a",
   "metadata": {},
   "outputs": [],
   "source": [
    "# max of maximum\n",
    "np.max(resized_maximum)"
   ]
  },
  {
   "cell_type": "code",
   "execution_count": null,
   "id": "bbe00050",
   "metadata": {},
   "outputs": [],
   "source": [
    "# min of maximum\n",
    "np.min(resized_maximum)"
   ]
  },
  {
   "cell_type": "code",
   "execution_count": null,
   "id": "01273894",
   "metadata": {},
   "outputs": [],
   "source": [
    "# average of maximum\n",
    "np.mean(resized_maximum)"
   ]
  },
  {
   "cell_type": "code",
   "execution_count": null,
   "id": "56a71521",
   "metadata": {},
   "outputs": [],
   "source": [
    "# max of minimum\n",
    "np.max(resized_minimum)"
   ]
  },
  {
   "cell_type": "code",
   "execution_count": null,
   "id": "cbb7ab98",
   "metadata": {},
   "outputs": [],
   "source": [
    "# min of minimum\n",
    "np.min(resized_minimum)"
   ]
  },
  {
   "cell_type": "code",
   "execution_count": null,
   "id": "05d6f90e",
   "metadata": {},
   "outputs": [],
   "source": [
    "# average of minimum\n",
    "np.mean(resized_minimum)"
   ]
  },
  {
   "cell_type": "code",
   "execution_count": null,
   "id": "0cad063b",
   "metadata": {},
   "outputs": [],
   "source": [
    "max_by_99point9percentile = np.percentile(np.array(resized_data), 99.9)"
   ]
  },
  {
   "cell_type": "code",
   "execution_count": null,
   "id": "821da89c",
   "metadata": {},
   "outputs": [],
   "source": [
    "max_by_99point9percentile"
   ]
  },
  {
   "cell_type": "code",
   "execution_count": null,
   "id": "c05282e8",
   "metadata": {},
   "outputs": [],
   "source": [
    "plt.hist(resized_data.flatten())\n",
    "plt.yscale('log')\n",
    "plt.show()"
   ]
  },
  {
   "cell_type": "code",
   "execution_count": null,
   "id": "618e7e69",
   "metadata": {},
   "outputs": [],
   "source": []
  },
  {
   "cell_type": "code",
   "execution_count": null,
   "id": "5d705ea1",
   "metadata": {},
   "outputs": [],
   "source": []
  },
  {
   "cell_type": "code",
   "execution_count": null,
   "id": "13776865",
   "metadata": {},
   "outputs": [],
   "source": []
  },
  {
   "cell_type": "code",
   "execution_count": null,
   "id": "d0643bc2",
   "metadata": {},
   "outputs": [],
   "source": []
  },
  {
   "cell_type": "code",
   "execution_count": null,
   "id": "5ac09c4f",
   "metadata": {},
   "outputs": [],
   "source": []
  },
  {
   "cell_type": "code",
   "execution_count": null,
   "id": "d3996b7f",
   "metadata": {},
   "outputs": [],
   "source": []
  },
  {
   "cell_type": "code",
   "execution_count": null,
   "id": "e2077b69",
   "metadata": {},
   "outputs": [],
   "source": []
  },
  {
   "cell_type": "code",
   "execution_count": null,
   "id": "5d307fe5",
   "metadata": {},
   "outputs": [],
   "source": []
  },
  {
   "cell_type": "code",
   "execution_count": null,
   "id": "af88c7fe",
   "metadata": {},
   "outputs": [],
   "source": []
  },
  {
   "cell_type": "code",
   "execution_count": null,
   "id": "a6bb54a4",
   "metadata": {},
   "outputs": [],
   "source": []
  },
  {
   "cell_type": "code",
   "execution_count": null,
   "id": "4a2b065d",
   "metadata": {},
   "outputs": [],
   "source": []
  },
  {
   "cell_type": "code",
   "execution_count": null,
   "id": "edcd60a2",
   "metadata": {},
   "outputs": [],
   "source": []
  }
 ],
 "metadata": {
  "kernelspec": {
   "display_name": "Python 3 (ipykernel)",
   "language": "python",
   "name": "python3"
  },
  "language_info": {
   "codemirror_mode": {
    "name": "ipython",
    "version": 3
   },
   "file_extension": ".py",
   "mimetype": "text/x-python",
   "name": "python",
   "nbconvert_exporter": "python",
   "pygments_lexer": "ipython3",
   "version": "3.9.2"
  }
 },
 "nbformat": 4,
 "nbformat_minor": 5
}
