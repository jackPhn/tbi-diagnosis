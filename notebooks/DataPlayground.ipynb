{
 "cells": [
  {
   "cell_type": "code",
   "execution_count": null,
   "id": "30bd7efd",
   "metadata": {},
   "outputs": [],
   "source": [
    "import os\n",
    "import numpy as np\n",
    "import cv2\n",
    "import math\n",
    "import matplotlib.pyplot as plt\n",
    "import sklearn\n",
    "import h5py\n",
    "from tensorflow.keras import backend as K\n",
    "from scipy.io import loadmat\n",
    "from multiprocessing import Process, Lock, Manager\n",
    "from PIL import Image"
   ]
  },
  {
   "cell_type": "code",
   "execution_count": null,
   "id": "5a36f89b",
   "metadata": {},
   "outputs": [],
   "source": [
    "data_dir = \"/DATA/phan92/tbi_diagnosis/data/raw/cardiac_displacement_3_updated_Oct13\""
   ]
  },
  {
   "cell_type": "code",
   "execution_count": null,
   "id": "ed6832f3",
   "metadata": {},
   "outputs": [],
   "source": [
    "IPH_patients = ['DoD008', 'DoD009', 'DoD010', 'DoD012', 'DoD022', 'DoD047', 'DoD053', \n",
    "                'DoD062', 'DoD066', 'DoD067', 'DoD069', 'DoD074', 'DoD075', 'DoD078', \n",
    "                'DoD085', 'DoD089', 'DoD093', 'DoD101', 'DoD105', 'DoD107', 'DoD110', \n",
    "                'DoD112', 'DoD113', 'DoD120', 'DoD121', 'DoD126', 'DoD129', 'DoD130', \n",
    "                'DoD133']\n",
    "\n",
    "old_bad_patients = [1, 14, 22, 23, 27, 28, 32, 34, 35, 36, 37, 38, 39, 44, 49, 69, 71, \n",
    "                78, 82, 90, 98, 101, 121, 124, 128, 133, 928]\n",
    "\n",
    "bad_patients = ['DoD027', 'DoD028', 'DoD035', 'DoD036', 'DoD038', 'DoD049', 'DoD069', 'DoD090']"
   ]
  },
  {
   "cell_type": "code",
   "execution_count": null,
   "id": "eb2a9293",
   "metadata": {},
   "outputs": [],
   "source": [
    "# find out all different size of the dataset\n",
    "data_sizes = []\n",
    "for patient in os.listdir(data_dir):\n",
    "    for scan in os.listdir(os.path.join(data_dir, patient)):\n",
    "        data = loadmat(os.path.join(data_dir, patient, scan))\n",
    "        size_of_displacement = data['displacement'].shape\n",
    "        print(scan, size_of_displacement)\n",
    "        if size_of_displacement not in data_sizes:\n",
    "            data_sizes.append(size_of_displacement)"
   ]
  },
  {
   "cell_type": "code",
   "execution_count": null,
   "id": "10e8ab84",
   "metadata": {},
   "outputs": [],
   "source": [
    "len(data_sizes)"
   ]
  },
  {
   "cell_type": "code",
   "execution_count": null,
   "id": "bb5cb9a7",
   "metadata": {},
   "outputs": [],
   "source": [
    "data_sizes"
   ]
  },
  {
   "cell_type": "code",
   "execution_count": null,
   "id": "0cb32163",
   "metadata": {},
   "outputs": [],
   "source": [
    "# Extract axis information to produce cone-shape images\n",
    "def extract_axis(datapath, axisPath):\n",
    "    data = loadmat(datapath)\n",
    "\n",
    "    xaxis = np.array(list(data['xAxis']))\n",
    "    yaxis = np.array(list(data['zAxis']))\n",
    "\n",
    "    xaxis = cv2.resize(xaxis, (80, 256), interpolation=cv2.INTER_AREA)\n",
    "    yaxis = cv2.resize(yaxis, (80, 256), interpolation=cv2.INTER_AREA)\n",
    "\n",
    "    xaxis += 100\n",
    "    yaxis -= 4\n",
    "\n",
    "    print(\"saved axis info in : {}\".format(axisPath))\n",
    "    np.save(os.path.join(axisPath, \"xAxis.npy\"), xaxis)\n",
    "    np.save(os.path.join(axisPath, \"yAxis.npy\"), yaxis)\n",
    "    \n",
    "    return xaxis, yaxis"
   ]
  },
  {
   "cell_type": "code",
   "execution_count": null,
   "id": "d17a5464",
   "metadata": {},
   "outputs": [],
   "source": [
    "# extract generic axis information\n",
    "axisPath = \"/DATA/phan92/notebooks\"\n",
    "rand_input_file = \"/DATA/phan92/test_resource/raw_data/DoD110/DoD110_Ter002_LO1_Displacement_Normalized_3.mat\"\n",
    "xAxis, yAxis = extract_axis(rand_input_file, axisPath)"
   ]
  },
  {
   "cell_type": "code",
   "execution_count": null,
   "id": "667f112f",
   "metadata": {},
   "outputs": [],
   "source": [
    "# extract specific axis information of a patient\n",
    "axisPath = \"/DATA/phan92/notebooks\"\n",
    "input_file = \"/DATA/phan92/tbi_diagnosis/data/raw/cardiac_displacement_3_updated_Oct13/DoD042/DoD042_Ter015_LO5_Displacement_Normalized_3.mat\"\n",
    "xAxis, yAxis = extract_axis(input_file, axisPath)"
   ]
  },
  {
   "cell_type": "code",
   "execution_count": null,
   "id": "79dd6240",
   "metadata": {},
   "outputs": [],
   "source": []
  },
  {
   "cell_type": "code",
   "execution_count": null,
   "id": "d26688ad",
   "metadata": {},
   "outputs": [],
   "source": [
    "def display_input(label, bMode, displacement, xAxis, yAxis):\n",
    "    \"\"\"\n",
    "    Display an input\n",
    "    \n",
    "    Args:\n",
    "        label (numpy.arr): the label\n",
    "        bMode (numpy.arr): bMode\n",
    "        displacement (numpy.arr): displacement\n",
    "        xAxis (numpy.arr): numpy array contain x axis for display the cone\n",
    "        yAxis (numpy.arr): numpy array contain y axis for display the cone\n",
    "    \"\"\"\n",
    "    label.reshape([256, 80])\n",
    "    bMode.reshape([256, 80])\n",
    "    _, bin_edges = np.histogram(bMode, bins=25)\n",
    "    displacement.reshape([256, 80])\n",
    "    # display\n",
    "    fig, ax = plt.subplots(1, 3, figsize=(24, 6))\n",
    "    ax[0].pcolormesh(xAxis, -yAxis, label, shading='auto', cmap='magma', vmin=0, vmax=2)\n",
    "    ax[1].pcolormesh(xAxis, -yAxis, bMode, shading='auto', cmap='binary', vmin=bin_edges[2], vmax=bin_edges[-2])\n",
    "    ax[2].pcolormesh(xAxis, -yAxis, displacement, shading='auto')\n",
    "    \n",
    "    plt.show()"
   ]
  },
  {
   "cell_type": "code",
   "execution_count": null,
   "id": "e0cf7387",
   "metadata": {},
   "outputs": [],
   "source": [
    "def standardize(displacement, x_dim, y_dim):\n",
    "    \"\"\"\n",
    "    Standardize displacement data\n",
    "    Output values have a mean of 0 and std = 1\n",
    "\n",
    "    Args:\n",
    "        displacement (numpy array): one displacement frame\n",
    "        x_dim (int): horizontal dim of the final image\n",
    "        y_dim (int): vertical dim of the final image\n",
    "    Return:\n",
    "        displace_data (numpy array): normalized displacement shape (x_dim, y_dim)\n",
    "    \"\"\"\n",
    "    displacement = cv2.resize(displacement, (y_dim, x_dim))\n",
    "    \n",
    "    # center around 0\n",
    "    centered = displacement - displacement.mean()\n",
    "    \n",
    "    # divide by the standard deviation\n",
    "    if np.std(centered) != 0:\n",
    "        centered_scaled = centered / np.std(centered)\n",
    "        \n",
    "    displacement = centered_scaled\n",
    " \n",
    "    return displacement"
   ]
  },
  {
   "cell_type": "code",
   "execution_count": null,
   "id": "73ca59ac",
   "metadata": {},
   "outputs": [],
   "source": [
    "def extract_single_frame_from_raw_displacement(rawData, cardiac_cycle=1, frame=0):\n",
    "    \"\"\"\n",
    "    Extract the displacement data from a patient file\n",
    "    Choose one cardiac cycle and a single frame in this cardiac cycle\n",
    "    \n",
    "    Args:\n",
    "        rawData (raw from .mat): raw data loaded from .mat file\n",
    "        cardiac_cycle (int): number of the th cycle to extract data from\n",
    "        frame (int): the th frame after the start of a cardiac cycle \n",
    "        \n",
    "    Returns:\n",
    "        displace_data (numpy array): displacement data (x_dim, y_dim, 1)\n",
    "    \"\"\"\n",
    "    displacement = np.array(list(rawData['displacement']))\n",
    "    hrTimes = np.array(list(rawData['hrTimes']))\n",
    "    disShape = displacement.shape\n",
    "    # extract data from the cardiac_cycle th cycle\n",
    "    start = int(math.ceil(30 * hrTimes[0, cardiac_cycle]))\n",
    "    displace_data = np.zeros([disShape[0], disShape[1], 1])\n",
    "    # take the th displacement after the start of a cardiac cycle\n",
    "    displace_data[:,:,0] = displacement[:, :, start + frame]\n",
    "    \n",
    "    return np.array(displace_data.astype('float64'))"
   ]
  },
  {
   "cell_type": "code",
   "execution_count": null,
   "id": "ff76ea11",
   "metadata": {},
   "outputs": [],
   "source": [
    "def extract_single_frame_from_displacementNorm(rawData, cardiac_cycle=0, frame=9):\n",
    "    \"\"\"\n",
    "    Extract the displacement data from displacementNorm dataset\n",
    "    Choose one cardiac cycle and a single frame in this cardiac cycle\n",
    "    displacementNorm has shape (x_dim, y_dim, 30, n_cycles)\n",
    "    \n",
    "    Args:\n",
    "        rawData (raw from .mat): raw data loaded from .mat file\n",
    "        cardiac_cycle (int): number of the th cycle to extract data from\n",
    "        frame (int): the th frame after the start of a cardiac cycle \n",
    "        \n",
    "    Returns:\n",
    "        displace_data (numpy array): displacement data (x_dim, y_dim)\n",
    "    \"\"\"\n",
    "    displacement = np.array(list(rawData['displacementNorm']))\n",
    "    disShape = displacement.shape\n",
    "    # extract data from the cardiac_cycle th cycle\n",
    "    displace_data = np.zeros([disShape[0],disShape[1]])\n",
    "    if (len(disShape) == 4):\n",
    "        displace_data[:,:] = displacement[:, :, frame, cardiac_cycle]\n",
    "    else:\n",
    "        # handle cases where there is only one cycle\n",
    "        displace_data[:,:] = displacement[:, :, frame]\n",
    "                    \n",
    "    return np.array(displace_data.astype('float64'))"
   ]
  },
  {
   "cell_type": "code",
   "execution_count": null,
   "id": "679c8c26",
   "metadata": {},
   "outputs": [],
   "source": [
    "def make_label(rawData, x_dim, y_dim, objective):\n",
    "    \"\"\"\n",
    "    Make the label according to model's objective\n",
    "    Objective = 0: find skull\n",
    "    Objective = 1: find bleed\n",
    "    \n",
    "    Args:\n",
    "        rarData: data read from loadmat()\n",
    "        objective (int): find brain or fine bleed\n",
    "        x_dim (int): horizontal dim of the final image\n",
    "        y_dim (int): vertical dim of the final image\n",
    "    \n",
    "    Return:\n",
    "        label (numpy.arr): the label (x_dim, y_dim)\n",
    "    \"\"\"\n",
    "    # get the labels\n",
    "    bloodMask = np.array(list(rawData['bloodMaskThick']))\n",
    "    brainMask = np.array(list(rawData['brainMask']))\n",
    "    skullMask = np.array(list(rawData['skullMaskThick']))\n",
    "    \n",
    "    # resize the masks\n",
    "    bloodMask = cv2.resize(bloodMask, (y_dim, x_dim))\n",
    "    brainMask = cv2.resize(brainMask, (y_dim, x_dim))\n",
    "    skullMask = cv2.resize(skullMask, (y_dim, x_dim))\n",
    "    \n",
    "    # create label\n",
    "    if objective == 0:\n",
    "        label = skullMask\n",
    "    elif objective == 1:\n",
    "        label = bloodMask\n",
    "    else:\n",
    "        label = brainMask\n",
    "    \n",
    "    return label.astype('float32')"
   ]
  },
  {
   "cell_type": "code",
   "execution_count": null,
   "id": "55f2f3e0",
   "metadata": {},
   "outputs": [],
   "source": [
    "def get_bMode(rawData, x_dim, y_dim):\n",
    "    \"\"\"\n",
    "    Get the bMode image from raw data\n",
    "    \n",
    "    Args:\n",
    "        rarData: data read from loadmat()\n",
    "        x_dim (int): horizontal dim of the final image\n",
    "        y_dim (int): vertical dim of the final image\n",
    "        \n",
    "    Returns:\n",
    "        bMode (numpy.arr): bMode image (x_dim, y_dim)\n",
    "    \"\"\"\n",
    "    # get the bmode from raw data\n",
    "    bMode = np.array(list(rawData['bModeNorm']))\n",
    "    \n",
    "    # resize\n",
    "    bMode = np.log10(bMode)\n",
    "    bMode = bMode.astype('float64')\n",
    "    \n",
    "    # some bModeNorm data have dimensions (x_dim, y_dim)\n",
    "    # those do not need to be processed in the if statement\n",
    "    if len(bMode.shape) > 2:\n",
    "        bMode = np.mean(bMode, axis=2)\n",
    "        bMode = bMode[:, :, 0]\n",
    "    bMode = cv2.resize(bMode, (y_dim, x_dim))\n",
    "    \n",
    "    return bMode"
   ]
  },
  {
   "cell_type": "code",
   "execution_count": null,
   "id": "acc82378",
   "metadata": {},
   "outputs": [],
   "source": [
    "def process_one_patient(path, x_dim, y_dim, objective):\n",
    "    \"\"\"\n",
    "    Process the raw data for a patient\n",
    "    \n",
    "    Args:\n",
    "        path (str): path to the data file\n",
    "        objective (int): the objective of processing (0 to find skull, 1 to find bleed)\n",
    "        x_dim (int): horizontal dim of the final image\n",
    "        y_dim (int): vertical dim of the final image\n",
    "        \n",
    "    Returns:\n",
    "        displacement_list: displacement frames from a mat file (N, x_dim, y_dim, 1)\n",
    "        label_list: labels (N, x_dim, y_dim, 1)\n",
    "        bMode_list: corresponding bMode images (N, x_dim, y_dim, 1)\n",
    "        fileNames: names of files where data come from (N,)\n",
    "    \"\"\"\n",
    "    # list of displacement\n",
    "    displacement_list = []\n",
    "    # list of bMode\n",
    "    bMode_list = []\n",
    "    #list of labels\n",
    "    label_list = []\n",
    "    # list of file names\n",
    "    fileNames = []\n",
    "    # process all file in the directory\n",
    "    for file in os.listdir(path):\n",
    "        if \".mat\" in file:\n",
    "            filePath = os.path.join(path, file)\n",
    "            rawData = loadmat(filePath)\n",
    "            \n",
    "            # extract the displacement data\n",
    "            #displace_data = extract_single_frame_from_raw_displacement(rawData)\n",
    "            displace_data = extract_single_frame_from_displacementNorm(rawData)\n",
    "            # standardize\n",
    "            displace_data = standardize(displace_data, x_dim, y_dim)\n",
    "            displace_data = displace_data.reshape([x_dim, y_dim, 1])\n",
    "            \n",
    "            \"\"\"\n",
    "            if objective == 1:\n",
    "                # delete non-brain from input\n",
    "                brainMask = np.array(list(rawData['brainMask']))\n",
    "                brainMask = cv2.resize(brainMask, (80, 256))\n",
    "                displace_data[:,:, 0] = np.where(brainMask == 0, 0.0, displace_data[:,:,0])\n",
    "            \"\"\"\n",
    "\n",
    "            # get bMode images\n",
    "            bMode = get_bMode(rawData, x_dim, y_dim)\n",
    "            \n",
    "            # make label\n",
    "            label = make_label(rawData, x_dim, y_dim, objective)\n",
    "\n",
    "            displacement_list.append(displace_data)\n",
    "            label_list.append(label)\n",
    "            bMode_list.append(bMode)\n",
    "            fileNames.append(file)\n",
    "            \n",
    "    return (np.array(displacement_list), \n",
    "            np.array(label_list), \n",
    "            np.array(bMode_list), \n",
    "            np.array(fileNames))"
   ]
  },
  {
   "cell_type": "code",
   "execution_count": null,
   "id": "f33ecdc7",
   "metadata": {},
   "outputs": [],
   "source": [
    "def process_all_patients(path, objective=1, x_dim=256, y_dim=80, patient_nums=None):\n",
    "    \"\"\"\n",
    "    Process data of all patients\n",
    "\n",
    "    Args:\n",
    "        path (string): path to folder storing patient data\n",
    "        objective (integer): 0-skull mask, 1-blood mask\n",
    "        patient_nums (list(string)): list of patient numbers to process;\n",
    "                                process all if None is given;\n",
    "                                format: DoDxxx\n",
    "        x_dim (int): horizontal dim of the final image\n",
    "        y_dim (int): vertical dim of the final image\n",
    "    Return:\n",
    "        numpy array of displacement data, label, bMode, list of patient files\n",
    "    \"\"\"\n",
    "    displacement_list = []\n",
    "    label_list = []\n",
    "    bMode_list = []\n",
    "    file_list = []\n",
    "    \n",
    "    # process all if no patient number is given\n",
    "    if patient_nums is None:\n",
    "        patient_nums = [patient for patient in os.listdir(path) if patient not in bad_patients]\n",
    "    \n",
    "    for patient_num in patient_nums:\n",
    "        if os.path.isdir(os.path.join(path, patient_num)):\n",
    "            print(\"Process data for patient\", patient_num)\n",
    "            dataPath = os.path.join(path, patient_num)\n",
    "            displacement, label, bMode, fileNames = process_one_patient(path=dataPath, \n",
    "                                                                   x_dim=x_dim, \n",
    "                                                                   y_dim=y_dim, \n",
    "                                                                   objective=objective)\n",
    "            displacement_list.extend(displacement)\n",
    "            label_list.extend(label)\n",
    "            bMode_list.extend(bMode)\n",
    "            file_list.extend(fileNames)\n",
    "        else:\n",
    "            print('Patient' + patient_num + 'does not exist')\n",
    "    \n",
    "    print(\"Processed\", len(patient_nums), \"patients\")\n",
    "    \n",
    "    return np.array(displacement_list), np.array(label_list), np.array(bMode_list), np.array(file_list)"
   ]
  },
  {
   "cell_type": "code",
   "execution_count": null,
   "id": "409ef146",
   "metadata": {},
   "outputs": [],
   "source": [
    "def multiprocess_all_patients(path, objective=1, x_dim=256, y_dim=80, patient_nums=None):\n",
    "    \"\"\"\n",
    "    Process all the patient in parallel using 10 processes\n",
    "    \"\"\" \n",
    "    manager = Manager()\n",
    "    \n",
    "    displacement_list = manager.list()\n",
    "    label_list = manager.list()\n",
    "    bMode_list = manager.list()\n",
    "    file_list = manager.list()\n",
    "    \n",
    "    # inner function for multiprocessing\n",
    "    def process_patient(lock, path, patient, x_dim, y_dim, objective):\n",
    "        lock.acquire()\n",
    "        print(\"Process data for patient\", patient)\n",
    "        lock.release()\n",
    "        dataPath = os.path.join(path, patient)\n",
    "        displacement, label, bMode, fileNames = process_one_patient(path=dataPath, \n",
    "                                                                       x_dim=x_dim, \n",
    "                                                                       y_dim=y_dim, \n",
    "                                                                       objective=objective)\n",
    "\n",
    "        # lock the share resource and add data to common storage\n",
    "        lock.acquire()\n",
    "        displacement_list.extend(displacement)\n",
    "        label_list.extend(label)\n",
    "        bMode_list.extend(bMode)\n",
    "        file_list.extend(fileNames)\n",
    "        lock.release()\n",
    "        # end of inner function\n",
    "    \n",
    "    # process all if no patient number is given\n",
    "    if patient_nums is None:\n",
    "        patient_nums = [patient for patient in os.listdir(path) if patient not in bad_patients]\n",
    "    \n",
    "    # total # of patient\n",
    "    num_patients = len(patient_nums)\n",
    "    # current index in the list of patients\n",
    "    curr_idx = 0;\n",
    "    # number of threads spawned so far\n",
    "    thread_num = 0\n",
    "    # max num of threads\n",
    "    max_num_threads = 5\n",
    "    \n",
    "    lock = Lock()\n",
    "    while curr_idx < num_patients:\n",
    "        processes = []\n",
    "        while thread_num < max_num_threads and curr_idx < num_patients:\n",
    "            p = Process(target=process_patient, args=(lock, \n",
    "                                                      path, \n",
    "                                                      patient_nums[curr_idx], \n",
    "                                                      x_dim, \n",
    "                                                      y_dim, \n",
    "                                                      objective))\n",
    "            p.start()\n",
    "            processes.append(p)\n",
    "            curr_idx += 1\n",
    "            thread_num += 1\n",
    "        \n",
    "        # reset the number of threads\n",
    "        thread_num = 0\n",
    "        # terminate the processes\n",
    "        for process in processes:\n",
    "            process.join()\n",
    "    print(\"Processed\", len(patient_nums), \"patients\")\n",
    "    \n",
    "    return np.array(displacement_list), np.array(label_list), np.array(bMode_list), np.array(file_list)"
   ]
  },
  {
   "cell_type": "code",
   "execution_count": null,
   "id": "134641ee",
   "metadata": {},
   "outputs": [],
   "source": [
    "# get data from file\n",
    "displacement, label, bMode, fileList = process_all_patients(data_dir, \n",
    "                                                          objective=1, \n",
    "                                                          x_dim=256, \n",
    "                                                          y_dim=80, \n",
    "                                                          patient_nums=['DoD009'])"
   ]
  },
  {
   "cell_type": "code",
   "execution_count": null,
   "id": "30bccd22",
   "metadata": {},
   "outputs": [],
   "source": [
    "displacement.shape"
   ]
  },
  {
   "cell_type": "code",
   "execution_count": null,
   "id": "2d1d1165",
   "metadata": {},
   "outputs": [],
   "source": [
    "label.shape"
   ]
  },
  {
   "cell_type": "code",
   "execution_count": null,
   "id": "4f369a69",
   "metadata": {},
   "outputs": [],
   "source": [
    "label = one_hot(label, 3)"
   ]
  },
  {
   "cell_type": "code",
   "execution_count": null,
   "id": "dc4dfa85",
   "metadata": {},
   "outputs": [],
   "source": [
    "label.shape"
   ]
  },
  {
   "cell_type": "code",
   "execution_count": null,
   "id": "ab64f7d4",
   "metadata": {},
   "outputs": [],
   "source": [
    "bMode.shape"
   ]
  },
  {
   "cell_type": "code",
   "execution_count": null,
   "id": "3ce73c95",
   "metadata": {},
   "outputs": [],
   "source": [
    "plt.pcolormesh(xAxis, -yAxis, np.squeeze(displacement[0,:,:,:], axis=-1), shading='flat')"
   ]
  },
  {
   "cell_type": "code",
   "execution_count": null,
   "id": "6da39d7f",
   "metadata": {},
   "outputs": [],
   "source": [
    "plt.pcolormesh(xAxis, -yAxis, np.squeeze(displacement[0,:,:,:], axis=-1), shading='flat')"
   ]
  },
  {
   "cell_type": "code",
   "execution_count": null,
   "id": "be0fc085",
   "metadata": {},
   "outputs": [],
   "source": [
    "display_input(label[3,:,:], bMode[3,:,:], displacement[3,:,:,0], xAxis, yAxis)"
   ]
  },
  {
   "cell_type": "code",
   "execution_count": null,
   "id": "23f45124",
   "metadata": {},
   "outputs": [],
   "source": []
  },
  {
   "cell_type": "code",
   "execution_count": null,
   "id": "bb3c7ea9",
   "metadata": {},
   "outputs": [],
   "source": [
    "# get data from file\n",
    "displacement, label, bMode, fileList = multiprocess_all_patients(data_dir, \n",
    "                                                          objective=1, \n",
    "                                                          x_dim=256, \n",
    "                                                          y_dim=80, \n",
    "                                                          patient_nums=['DoD009', 'DoD053', 'DoD089', 'DoD012', 'DoD102'])"
   ]
  },
  {
   "cell_type": "code",
   "execution_count": null,
   "id": "50104f13",
   "metadata": {},
   "outputs": [],
   "source": [
    "fileList.shape"
   ]
  },
  {
   "cell_type": "code",
   "execution_count": null,
   "id": "93f5019d",
   "metadata": {},
   "outputs": [],
   "source": []
  },
  {
   "cell_type": "code",
   "execution_count": null,
   "id": "2ac53b66",
   "metadata": {},
   "outputs": [],
   "source": []
  },
  {
   "cell_type": "code",
   "execution_count": null,
   "id": "025ca0fd",
   "metadata": {},
   "outputs": [],
   "source": []
  },
  {
   "cell_type": "code",
   "execution_count": null,
   "id": "2421cd4f",
   "metadata": {},
   "outputs": [],
   "source": [
    "def one_hot(label, num_classes=3):\n",
    "    \"\"\"\n",
    "    Create one hot label from the provided label\n",
    "    \n",
    "    Args:\n",
    "        label: label of shape (N, x_dim, y_dim)\n",
    "        num_classes (int): number of classes to resolve\n",
    "        \n",
    "    Returns:\n",
    "        label: onehot label (N, x_dim, y_dim, n_channels)\n",
    "    \"\"\"\n",
    "    if num_classes == 2:\n",
    "        # create label to find brain tissue\n",
    "        # if the probability of brain is >= 0.5\n",
    "        # set the label to 1, 0 otherwise\n",
    "        label = np.where(label >= 0.5, 1, 0)\n",
    "    else:\n",
    "        # create label to find bleed\n",
    "        # if the probability of bleed is >= 0.3\n",
    "        # set the label to 1\n",
    "        label = np.where(label >= 1.3, 1, 0)\n",
    "\n",
    "    label = np.expand_dims(label, axis=-1)\n",
    "    \n",
    "    return label"
   ]
  },
  {
   "cell_type": "code",
   "execution_count": null,
   "id": "875b3117",
   "metadata": {},
   "outputs": [],
   "source": [
    "def make_hdf5(file_name, save_path, data_path):\n",
    "    \"\"\"\n",
    "    Make hdf5 data file\n",
    "    Pool all patient files before dividing into dev set and\n",
    "    \n",
    "    Args\"\n",
    "        file_name: name of hdf5\n",
    "        save_path: path to saved file\n",
    "        data_path: path to raw data\n",
    "    \"\"\"\n",
    "    # process data\n",
    "    displacement, label, bMode, fileNames = process_all_patients(data_path, objective=1, patient_nums=None)\n",
    "    \n",
    "    # change the dimensions of displacement\n",
    "    # from (N, x_dim, y_dim, n_channel)\n",
    "    # to (N, n_channel, x_dim, y_dim)\n",
    "    #displacement = np.moveaxis(displacement, 3, 1)\n",
    "    \n",
    "    # remove the n_channel from label and bMode\n",
    "    # from (N, x_dim, y_dim, n_channel = 1)\n",
    "    # to (N, x_dim, y_dim)\n",
    "    #label = np.squeeze(label, axis=3)\n",
    "    #bMode = np.squeeze(bMode, axis=3)\n",
    "    \n",
    "    # create a hdf5 file\n",
    "    f = h5py.File(os.path.join(save_path, file_name), 'w')\n",
    "    \n",
    "    training_group = f.create_group(\"training\")\n",
    "    testing_group = f.create_group('testing')\n",
    "    \n",
    "    # shuffle the dataset\n",
    "    displacement, label, bMode, fileNames = sklearn.utils.shuffle(displacement, \n",
    "                                                                  label, \n",
    "                                                                  bMode, \n",
    "                                                                  fileNames, \n",
    "                                                                  random_state=0)\n",
    "    \n",
    "    num_examples = displacement.shape[0]\n",
    "    # add data to the defined data buckets\n",
    "    _add_dataset(training_group, \n",
    "                 displacement[0: int(0.8*num_examples)],\n",
    "                 label[0: int(0.8*num_examples)],\n",
    "                 bMode[0: int(0.8*num_examples)],\n",
    "                 fileNames[0: int(0.8*num_examples)])\n",
    "    _add_dataset(testing_group, \n",
    "                 displacement[int(0.8*num_examples):], \n",
    "                 label[int(0.8*num_examples):],\n",
    "                 bMode[int(0.8*num_examples):],\n",
    "                 fileNames[int(0.8*num_examples):])\n",
    "    \n",
    "    f.close()"
   ]
  },
  {
   "cell_type": "code",
   "execution_count": null,
   "id": "ef9dea1f",
   "metadata": {},
   "outputs": [],
   "source": [
    "def make_hdf5_by_patient_group_1(file_name, save_path, data_path, objective):\n",
    "    \"\"\"\n",
    "    Make hdf5 data file\n",
    "    Divide patients into dev set and test set before process\n",
    "    \n",
    "    Args\"\n",
    "        file_name: name of hdf5\n",
    "        save_path: path to saved file\n",
    "        data_path: path to raw data\n",
    "    \"\"\"\n",
    "    # divide patient into dev set and test set\n",
    "    all_patients = [patient for patient in os.listdir(data_path) if patient not in bad_patients]\n",
    "    all_patients = sklearn.utils.shuffle(all_patients, random_state=0)\n",
    "    dev_patients = all_patients[0: int(0.9*len(all_patients))]\n",
    "    test_patients = all_patients[int(0.9*len(all_patients)):]\n",
    "                                       \n",
    "    # process data\n",
    "    print(\"Processing dev patients\")\n",
    "    dev_displacement, dev_label, dev_bMode, dev_fileNames = multiprocess_all_patients(data_path, \n",
    "                                                                                 objective=objective, \n",
    "                                                                                 patient_nums=dev_patients)\n",
    "    \n",
    "    print(\"Processing test patients\")\n",
    "    test_displacement, test_label, test_bMode, test_fileNames = multiprocess_all_patients(data_path, \n",
    "                                                                                 objective=objective, \n",
    "                                                                                 patient_nums=test_patients)\n",
    "    \n",
    "    # create a hdf5 file\n",
    "    f = h5py.File(os.path.join(save_path, file_name), 'w')\n",
    "    \n",
    "    dev_group = f.create_group('dev')\n",
    "    test_group = f.create_group('test')\n",
    "    \n",
    "    # add data to the defined data buckets\n",
    "    _add_dataset(dev_group, \n",
    "                 dev_displacement,\n",
    "                 dev_label,\n",
    "                 dev_bMode,\n",
    "                 dev_fileNames)\n",
    "    _add_dataset(test_group, \n",
    "                 test_displacement, \n",
    "                 test_label,\n",
    "                 test_bMode,\n",
    "                 test_fileNames)\n",
    "    \n",
    "    f.close()"
   ]
  },
  {
   "cell_type": "code",
   "execution_count": null,
   "id": "c165a3c9",
   "metadata": {},
   "outputs": [],
   "source": [
    "def make_hdf5_by_patient_group_2(file_name, save_path, data_path, objective):\n",
    "    \"\"\"\n",
    "    Make hdf5 data file\n",
    "    Divide patients into dev set and test set before process\n",
    "    \n",
    "    Args\"\n",
    "        file_name: name of hdf5\n",
    "        save_path: path to saved file\n",
    "        data_path: path to raw data\n",
    "    \"\"\"\n",
    "    # divide patient into dev set and test set\n",
    "    all_patients = [patient for patient in os.listdir(data_path) if patient not in bad_patients]\n",
    "    all_patients = sklearn.utils.shuffle(all_patients, random_state=0)\n",
    "    dev_patients = all_patients[0: int(0.9*len(all_patients))]\n",
    "    test_patients = all_patients[int(0.9*len(all_patients)):]\n",
    "                                       \n",
    "    # process data\n",
    "    print(\"Processing dev patients\")\n",
    "    dev_displacement, dev_label, dev_bMode, dev_fileNames = process_all_patients(data_path, \n",
    "                                                                                 objective=objective, \n",
    "                                                                                 patient_nums=dev_patients)\n",
    "    \n",
    "    print(\"Processing test patients\")\n",
    "    test_displacement, test_label, test_bMode, test_fileNames = process_all_patients(data_path, \n",
    "                                                                                 objective=objective, \n",
    "                                                                                 patient_nums=test_patients)\n",
    "    \n",
    "    # create a hdf5 file\n",
    "    f = h5py.File(os.path.join(save_path, file_name), 'w')\n",
    "    \n",
    "    dev_group = f.create_group('dev')\n",
    "    test_group = f.create_group('test')\n",
    "    \n",
    "    # add data to the defined data buckets\n",
    "    _add_dataset(dev_group, \n",
    "                 dev_displacement,\n",
    "                 dev_label,\n",
    "                 dev_bMode,\n",
    "                 dev_fileNames)\n",
    "    _add_dataset(test_group, \n",
    "                 test_displacement, \n",
    "                 test_label,\n",
    "                 test_bMode,\n",
    "                 test_fileNames)\n",
    "    \n",
    "    f.close()"
   ]
  },
  {
   "cell_type": "code",
   "execution_count": null,
   "id": "ad619127",
   "metadata": {},
   "outputs": [],
   "source": [
    "def _add_dataset(group: h5py.Group, displacement, label, bMode, fileNames):\n",
    "    \"\"\"\n",
    "    Add a dataset to h5py group\n",
    "    The saved data have shapes:\n",
    "        x (N, nchannel, 256, 80)\n",
    "        y (N, n_class, 256, 80)\n",
    "        bMode (N, 256, 80)\n",
    "        names (N, 1)\n",
    "    \n",
    "    @param: group: h5py group\n",
    "    @param: displacement: displacement data (N, n_channel, x_dim, y_dim)\n",
    "    @param: label: label (N, n_class, x_dim, y_dim)\n",
    "    @param: bMode: bMode ultrasound (N, x_dim, y_dim)\n",
    "    @param: fileNames: file names of the displacement data (N,)\n",
    "    \"\"\"\n",
    "    # convert the label to a ASCII format for h5py\n",
    "    asciiList = [name.encode(\"ascii\", \"ignore\") for name in fileNames]\n",
    "    \n",
    "    x = group.create_dataset('x', data=displacement)\n",
    "    y = group.create_dataset('y', data=label)\n",
    "    bMode = group.create_dataset('bMode', data=bMode)\n",
    "    filename = group.create_dataset('filename', data=asciiList)"
   ]
  },
  {
   "cell_type": "code",
   "execution_count": null,
   "id": "eaf0eeaf",
   "metadata": {},
   "outputs": [],
   "source": [
    "import time\n",
    "\n",
    "start = time.time()\n",
    "make_hdf5_by_patient_group_1('test3_displacementNorm_data.hdf5', \n",
    "                           '/DATA/phan92/tbi_diagnosis/data/processed', \n",
    "                           data_dir,\n",
    "                           1)\n",
    "end = time.time()\n",
    "print((end - start)/60)"
   ]
  },
  {
   "cell_type": "code",
   "execution_count": null,
   "id": "ce958dd6",
   "metadata": {},
   "outputs": [],
   "source": [
    "start = time.time()\n",
    "make_hdf5_by_patient_group_2('test2_displacementNorm_data.hdf5', \n",
    "                           '/DATA/phan92/tbi_diagnosis/data/processed', \n",
    "                           data_dir,\n",
    "                           1)\n",
    "end = time.time()\n",
    "print((end - start)/60)"
   ]
  },
  {
   "cell_type": "code",
   "execution_count": null,
   "id": "1179b0b9",
   "metadata": {},
   "outputs": [],
   "source": [
    "make_hdf5_by_patient_group('bleed_displacementNorm_data.hdf5', \n",
    "                           '/DATA/phan92/tbi_diagnosis/data/processed', \n",
    "                           data_dir,\n",
    "                           1)"
   ]
  },
  {
   "cell_type": "code",
   "execution_count": null,
   "id": "10e70469",
   "metadata": {},
   "outputs": [],
   "source": [
    "dataset = h5py.File('/DATA/phan92/tbi_diagnosis/data/processed/skull_displacementNorm_data.hdf5', 'r')"
   ]
  },
  {
   "cell_type": "code",
   "execution_count": null,
   "id": "7cfba5fe",
   "metadata": {},
   "outputs": [],
   "source": [
    "dev = dataset['dev']"
   ]
  },
  {
   "cell_type": "code",
   "execution_count": null,
   "id": "54b777cf",
   "metadata": {},
   "outputs": [],
   "source": [
    "x = dev['x']"
   ]
  },
  {
   "cell_type": "code",
   "execution_count": null,
   "id": "2d110cc5",
   "metadata": {},
   "outputs": [],
   "source": [
    "x"
   ]
  },
  {
   "cell_type": "code",
   "execution_count": null,
   "id": "07a10fb1",
   "metadata": {},
   "outputs": [],
   "source": [
    "y = dev['y']"
   ]
  },
  {
   "cell_type": "code",
   "execution_count": null,
   "id": "0af37e5e",
   "metadata": {},
   "outputs": [],
   "source": [
    "y"
   ]
  },
  {
   "cell_type": "code",
   "execution_count": null,
   "id": "94302f10",
   "metadata": {},
   "outputs": [],
   "source": [
    "plt.pcolormesh(xAxis, -yAxis, x[120,:,:,0], shading='auto')"
   ]
  },
  {
   "cell_type": "code",
   "execution_count": null,
   "id": "237e8f17",
   "metadata": {},
   "outputs": [],
   "source": [
    "dataset.close()"
   ]
  },
  {
   "cell_type": "code",
   "execution_count": null,
   "id": "c5854cff",
   "metadata": {},
   "outputs": [],
   "source": [
    "sample = x[1]"
   ]
  },
  {
   "cell_type": "code",
   "execution_count": null,
   "id": "edc93962",
   "metadata": {},
   "outputs": [],
   "source": [
    "sample.shape"
   ]
  },
  {
   "cell_type": "code",
   "execution_count": null,
   "id": "df9871b7",
   "metadata": {},
   "outputs": [],
   "source": [
    "sample = np.squeeze(sample, axis=-1)"
   ]
  },
  {
   "cell_type": "code",
   "execution_count": null,
   "id": "e5b27fa0",
   "metadata": {},
   "outputs": [],
   "source": [
    "sample.shape"
   ]
  },
  {
   "cell_type": "code",
   "execution_count": null,
   "id": "4b46be65",
   "metadata": {},
   "outputs": [],
   "source": []
  },
  {
   "cell_type": "code",
   "execution_count": null,
   "id": "849393a2",
   "metadata": {},
   "outputs": [],
   "source": [
    "dataset.close()"
   ]
  },
  {
   "cell_type": "code",
   "execution_count": null,
   "id": "66642561",
   "metadata": {},
   "outputs": [],
   "source": []
  },
  {
   "cell_type": "code",
   "execution_count": null,
   "id": "a376d7ed",
   "metadata": {},
   "outputs": [],
   "source": [
    "def convert_displacement_to_image(np_array, save_path):\n",
    "    \"\"\"\n",
    "    Convert a numpy array to an image\n",
    "    \n",
    "    Args:\n",
    "        np_array (numpy array): an numpy array (height, width, 1)\n",
    "        save_path (string): absolute path to the save file\n",
    "    \"\"\"\n",
    "    image = np.squeeze(np_array, axis=-1)\n",
    "    plt.imsave(save_path, image)"
   ]
  },
  {
   "cell_type": "code",
   "execution_count": null,
   "id": "1ebac6b2",
   "metadata": {},
   "outputs": [],
   "source": [
    "def convert_label_to_image(label, save_path):\n",
    "    \"\"\"\n",
    "    Convert a label in the form of numpy array to an image\n",
    "    \n",
    "    Args:\n",
    "        label (numpy array): an numpy array (height, width)\n",
    "        save_path (string): absolute path to the save file\n",
    "    \"\"\"\n",
    "    plt.imsave(save_path, image, cmap=plt.cm.gray)"
   ]
  },
  {
   "cell_type": "code",
   "execution_count": null,
   "id": "476ecd82",
   "metadata": {},
   "outputs": [],
   "source": [
    "image = x[2]"
   ]
  },
  {
   "cell_type": "code",
   "execution_count": null,
   "id": "8ba6ebde",
   "metadata": {},
   "outputs": [],
   "source": [
    "np.array(image)"
   ]
  },
  {
   "cell_type": "code",
   "execution_count": null,
   "id": "0c20dd9a",
   "metadata": {},
   "outputs": [],
   "source": [
    "convert_displacement_to_image(image,'/DATA/phan92/tbi_diagnosis/notebooks/image.jpg')"
   ]
  },
  {
   "cell_type": "code",
   "execution_count": null,
   "id": "f47ebc1c",
   "metadata": {},
   "outputs": [],
   "source": [
    "img = Image.open('/DATA/phan92/tbi_diagnosis/notebooks/image.jpg')"
   ]
  },
  {
   "cell_type": "code",
   "execution_count": null,
   "id": "c6622566",
   "metadata": {},
   "outputs": [],
   "source": [
    "img"
   ]
  },
  {
   "cell_type": "code",
   "execution_count": null,
   "id": "43404bbe",
   "metadata": {},
   "outputs": [],
   "source": [
    "img = img.getdata()"
   ]
  },
  {
   "cell_type": "code",
   "execution_count": null,
   "id": "1b540069",
   "metadata": {},
   "outputs": [],
   "source": [
    "arr = np.array(img)"
   ]
  },
  {
   "cell_type": "code",
   "execution_count": null,
   "id": "494b98e6",
   "metadata": {},
   "outputs": [],
   "source": [
    "np.array(image)"
   ]
  },
  {
   "cell_type": "code",
   "execution_count": null,
   "id": "f535a9af",
   "metadata": {},
   "outputs": [],
   "source": []
  },
  {
   "cell_type": "code",
   "execution_count": null,
   "id": "cc0a0408",
   "metadata": {},
   "outputs": [],
   "source": []
  },
  {
   "cell_type": "code",
   "execution_count": null,
   "id": "35ace9fd",
   "metadata": {},
   "outputs": [],
   "source": []
  },
  {
   "cell_type": "code",
   "execution_count": null,
   "id": "70278ca2",
   "metadata": {},
   "outputs": [],
   "source": []
  },
  {
   "cell_type": "code",
   "execution_count": null,
   "id": "76e2135c",
   "metadata": {},
   "outputs": [],
   "source": []
  },
  {
   "cell_type": "code",
   "execution_count": null,
   "id": "d476ad9c",
   "metadata": {},
   "outputs": [],
   "source": []
  },
  {
   "cell_type": "code",
   "execution_count": null,
   "id": "ca59302a",
   "metadata": {},
   "outputs": [],
   "source": []
  },
  {
   "cell_type": "code",
   "execution_count": null,
   "id": "42d912e2",
   "metadata": {},
   "outputs": [],
   "source": []
  },
  {
   "cell_type": "code",
   "execution_count": null,
   "id": "c6f36eb6",
   "metadata": {},
   "outputs": [],
   "source": []
  },
  {
   "cell_type": "code",
   "execution_count": null,
   "id": "04b05e6c",
   "metadata": {},
   "outputs": [],
   "source": []
  },
  {
   "cell_type": "code",
   "execution_count": null,
   "id": "87e1fe12",
   "metadata": {},
   "outputs": [],
   "source": []
  },
  {
   "cell_type": "code",
   "execution_count": null,
   "id": "b72dc156",
   "metadata": {},
   "outputs": [],
   "source": []
  },
  {
   "cell_type": "code",
   "execution_count": null,
   "id": "513f2432",
   "metadata": {},
   "outputs": [],
   "source": []
  },
  {
   "cell_type": "code",
   "execution_count": null,
   "id": "49353073",
   "metadata": {},
   "outputs": [],
   "source": []
  },
  {
   "cell_type": "markdown",
   "id": "4da43b40",
   "metadata": {},
   "source": [
    "# Descriptive statistics of the data"
   ]
  },
  {
   "cell_type": "code",
   "execution_count": null,
   "id": "e54f557d",
   "metadata": {},
   "outputs": [],
   "source": [
    "rawDataPath = '/DATA/phan92/raw_data/cardiac_displacement_3_updated_Oct13'"
   ]
  },
  {
   "cell_type": "code",
   "execution_count": null,
   "id": "c79c3fa0",
   "metadata": {},
   "outputs": [],
   "source": [
    "data = []\n",
    "fileNames = []"
   ]
  },
  {
   "cell_type": "code",
   "execution_count": null,
   "id": "a39150db",
   "metadata": {},
   "outputs": [],
   "source": [
    "# collect the data\n",
    "for patient in os.listdir(rawDataPath):\n",
    "    print(patient)\n",
    "    patient_num = int(patient[3:])\n",
    "    print(patient_num)\n",
    "    if patient_num not in bad_patients:\n",
    "        patientPath = os.path.join(rawDataPath, patient)\n",
    "        for scan in os.listdir(patientPath):\n",
    "            scanPath = os.path.join(patientPath, scan)\n",
    "            fileNames.append(scanPath)\n",
    "            rawData = loadmat(scanPath)\n",
    "            displacement = np.array(list(rawData['displacement']))\n",
    "            hrTimes = np.array(list(rawData['hrTimes']))\n",
    "            hrShape = hrTimes.shape\n",
    "            disShape = displacement.shape\n",
    "            for h in range(0, hrShape[1] - 1):\n",
    "                start = int(math.ceil(30 * hrTimes[0, h]))\n",
    "                # get 10 points after start of a cardiac cycle\n",
    "                for i in range(0, 11):\n",
    "                    data.append(displacement[:, :, start + i])"
   ]
  },
  {
   "cell_type": "code",
   "execution_count": null,
   "id": "1ca99a78",
   "metadata": {},
   "outputs": [],
   "source": [
    "data = np.array(data)"
   ]
  },
  {
   "cell_type": "code",
   "execution_count": null,
   "id": "7f9ac249",
   "metadata": {},
   "outputs": [],
   "source": [
    "data.shape"
   ]
  },
  {
   "cell_type": "code",
   "execution_count": null,
   "id": "c919e4a9",
   "metadata": {},
   "outputs": [],
   "source": [
    "# collect the data\n",
    "for patient in os.listdir(rawDataPath):\n",
    "    print(patient)\n",
    "    patientPath = os.path.join(rawDataPath, patient)\n",
    "    for scan in os.listdir(patientPath):\n",
    "        scanPath = os.path.join(patientPath, scan)\n",
    "        fileNames.append(scanPath)\n",
    "        rawData = loadmat(scanPath)\n",
    "        data.append(np.array(rawData['displacement']))"
   ]
  },
  {
   "cell_type": "code",
   "execution_count": null,
   "id": "bc4aacb8",
   "metadata": {},
   "outputs": [],
   "source": [
    "average = []\n",
    "maximum = []\n",
    "minimum = []"
   ]
  },
  {
   "cell_type": "code",
   "execution_count": null,
   "id": "e733a077",
   "metadata": {},
   "outputs": [],
   "source": [
    "for sample in data:\n",
    "    average.append(np.mean(sample))\n",
    "    maximum.append(np.max(sample))\n",
    "    minimum.append(np.min(sample))"
   ]
  },
  {
   "cell_type": "code",
   "execution_count": null,
   "id": "592e0d43",
   "metadata": {},
   "outputs": [],
   "source": [
    "# max of maximum\n",
    "np.max(maximum)"
   ]
  },
  {
   "cell_type": "code",
   "execution_count": null,
   "id": "c269267e",
   "metadata": {},
   "outputs": [],
   "source": [
    "# min of maximum\n",
    "np.min(maximum)"
   ]
  },
  {
   "cell_type": "code",
   "execution_count": null,
   "id": "c42243be",
   "metadata": {},
   "outputs": [],
   "source": [
    "# average of maximum\n",
    "np.mean(maximum)"
   ]
  },
  {
   "cell_type": "code",
   "execution_count": null,
   "id": "82574d05",
   "metadata": {},
   "outputs": [],
   "source": [
    "# max of minimum\n",
    "np.max(minimum)"
   ]
  },
  {
   "cell_type": "code",
   "execution_count": null,
   "id": "861c35ab",
   "metadata": {},
   "outputs": [],
   "source": [
    "# min of minimum\n",
    "np.min(minimum)"
   ]
  },
  {
   "cell_type": "code",
   "execution_count": null,
   "id": "60f1687b",
   "metadata": {},
   "outputs": [],
   "source": [
    "# average of minimum\n",
    "np.mean(minimum)"
   ]
  },
  {
   "cell_type": "code",
   "execution_count": null,
   "id": "dd17c5ea",
   "metadata": {},
   "outputs": [],
   "source": [
    "max_by_99percentile = np.percentile(data, 99.0)"
   ]
  },
  {
   "cell_type": "code",
   "execution_count": null,
   "id": "2fdb94c4",
   "metadata": {},
   "outputs": [],
   "source": []
  },
  {
   "cell_type": "code",
   "execution_count": null,
   "id": "fa8d62f3",
   "metadata": {},
   "outputs": [],
   "source": [
    "# resize the data\n",
    "resized_data = []\n",
    "for sample in data:\n",
    "    resized_sample = cv2.resize(sample, (80, 256))\n",
    "    resized_data.append(resized_sample)"
   ]
  },
  {
   "cell_type": "code",
   "execution_count": null,
   "id": "15f4352d",
   "metadata": {},
   "outputs": [],
   "source": [
    "resized_data = np.array(resized_data)"
   ]
  },
  {
   "cell_type": "code",
   "execution_count": null,
   "id": "f29d753c",
   "metadata": {},
   "outputs": [],
   "source": [
    "resized_data.shape"
   ]
  },
  {
   "cell_type": "code",
   "execution_count": null,
   "id": "ea0cb251",
   "metadata": {},
   "outputs": [],
   "source": [
    "resized_sample = resized_data[0]"
   ]
  },
  {
   "cell_type": "code",
   "execution_count": null,
   "id": "a22b0309",
   "metadata": {},
   "outputs": [],
   "source": [
    "plt.pcolormesh(xAxis, -yAxis, resized_sample, shading='auto', cmap='nipy_spectral')\n",
    "plt.show()"
   ]
  },
  {
   "cell_type": "code",
   "execution_count": null,
   "id": "e83b73f7",
   "metadata": {},
   "outputs": [],
   "source": [
    "resized_average = []\n",
    "resized_maximum = []\n",
    "resized_minimum = []"
   ]
  },
  {
   "cell_type": "code",
   "execution_count": null,
   "id": "2e0a43ca",
   "metadata": {},
   "outputs": [],
   "source": [
    "for sample in resized_data:\n",
    "    resized_average.append(np.mean(sample))\n",
    "    resized_maximum.append(np.max(sample))\n",
    "    resized_minimum.append(np.min(sample))"
   ]
  },
  {
   "cell_type": "code",
   "execution_count": null,
   "id": "6d8c3a6a",
   "metadata": {},
   "outputs": [],
   "source": [
    "# max of maximum\n",
    "np.max(resized_maximum)"
   ]
  },
  {
   "cell_type": "code",
   "execution_count": null,
   "id": "bbe00050",
   "metadata": {},
   "outputs": [],
   "source": [
    "# min of maximum\n",
    "np.min(resized_maximum)"
   ]
  },
  {
   "cell_type": "code",
   "execution_count": null,
   "id": "01273894",
   "metadata": {},
   "outputs": [],
   "source": [
    "# average of maximum\n",
    "np.mean(resized_maximum)"
   ]
  },
  {
   "cell_type": "code",
   "execution_count": null,
   "id": "56a71521",
   "metadata": {},
   "outputs": [],
   "source": [
    "# max of minimum\n",
    "np.max(resized_minimum)"
   ]
  },
  {
   "cell_type": "code",
   "execution_count": null,
   "id": "cbb7ab98",
   "metadata": {},
   "outputs": [],
   "source": [
    "# min of minimum\n",
    "np.min(resized_minimum)"
   ]
  },
  {
   "cell_type": "code",
   "execution_count": null,
   "id": "05d6f90e",
   "metadata": {},
   "outputs": [],
   "source": [
    "# average of minimum\n",
    "np.mean(resized_minimum)"
   ]
  },
  {
   "cell_type": "code",
   "execution_count": null,
   "id": "0cad063b",
   "metadata": {},
   "outputs": [],
   "source": [
    "max_by_99point9percentile = np.percentile(np.array(resized_data), 99.9)"
   ]
  },
  {
   "cell_type": "code",
   "execution_count": null,
   "id": "821da89c",
   "metadata": {},
   "outputs": [],
   "source": [
    "max_by_99point9percentile"
   ]
  },
  {
   "cell_type": "code",
   "execution_count": null,
   "id": "c05282e8",
   "metadata": {},
   "outputs": [],
   "source": [
    "plt.hist(resized_data.flatten())\n",
    "plt.yscale('log')\n",
    "plt.show()"
   ]
  },
  {
   "cell_type": "code",
   "execution_count": null,
   "id": "618e7e69",
   "metadata": {},
   "outputs": [],
   "source": []
  },
  {
   "cell_type": "code",
   "execution_count": null,
   "id": "5d705ea1",
   "metadata": {},
   "outputs": [],
   "source": []
  },
  {
   "cell_type": "code",
   "execution_count": null,
   "id": "13776865",
   "metadata": {},
   "outputs": [],
   "source": []
  },
  {
   "cell_type": "markdown",
   "id": "e229dacd",
   "metadata": {},
   "source": [
    "# Old code"
   ]
  },
  {
   "cell_type": "code",
   "execution_count": null,
   "id": "5ac09c4f",
   "metadata": {},
   "outputs": [],
   "source": [
    "def process_data_2(path, objective):\n",
    "    \"\"\"\n",
    "    Process the raw data for a patient\n",
    "    \n",
    "    @param: path: path to the data file\n",
    "    @param: objective: the objective of processing (0 to find skull, 1 to find bleed)\n",
    "    \n",
    "    @return: data: processed data\n",
    "    @return: fileNames: associated file names\n",
    "    \"\"\"\n",
    "    # list of input images\n",
    "    data = []\n",
    "    # list of file names\n",
    "    fileNames = []\n",
    "    # process all file in the directory\n",
    "    for file in os.listdir(path):\n",
    "        if \".mat\" in file:\n",
    "            filePath = os.path.join(path, file)\n",
    "            fileName = file[0:17]\n",
    "            rawData = loadmat(filePath)\n",
    "            # get the labels\n",
    "            normalMask = np.array(list(rawData['normalMask'])) \n",
    "            bloodMask = np.array(list(rawData['bloodMaskThick']))\n",
    "            brainMask = np.array(list(rawData['brainMask']))\n",
    "            bMode = np.array(list(rawData['bModeNorm']))\n",
    "\n",
    "            if len(bloodMask) == 0:\n",
    "                break\n",
    "            \n",
    "            # extract the displacement data\n",
    "            displace_data = extract_displace_data_2(rawData)\n",
    "            \n",
    "            # resize the masks\n",
    "            normalMask = cv2.resize(normalMask, (80, 256))\n",
    "            bloodMask = cv2.resize(bloodMask, (80, 256))\n",
    "            brainMask = cv2.resize(brainMask, (80, 256))\n",
    "            bMode = np.log10(bMode)\n",
    "            bMode = bMode.astype('float64')\n",
    "            bMode = np.mean(bMode, axis=2)\n",
    "\n",
    "            # create label\n",
    "            if objective == 0:\n",
    "                label = np.where(brainMask == 0, 0, 1)\n",
    "            else:\n",
    "                label = bloodMask + 1\n",
    "                label = label.astype('float32')\n",
    "                label = np.where(brainMask == 0, 0, label)\n",
    "\n",
    "            label = label.reshape([256, 80, 1])\n",
    "            n_cycles = displace_data.shape[-1]\n",
    "\n",
    "            # normalize\n",
    "            displace_data = normalize_displacement(displace_data)\n",
    "            #displace_data = displace_data * 255\n",
    "            #displace_data = cv2.resize(displace_data, (80, 256))\n",
    "            displace_data = displace_data.reshape([256, 80, 1])\n",
    "            \n",
    "            # take the 1th bModeNorm\n",
    "            bMode = bMode[:, :, 0]\n",
    "            bMode = cv2.resize(bMode, (80, 256))\n",
    "            bMode = bMode.reshape([256, 80, 1])\n",
    "\n",
    "            if objective == 1:\n",
    "                # delete non-brain from input\n",
    "                displace_data[:,:,0] = np.where(brainMask == 0, 0.0, displace_data[:,:,0])\n",
    "\n",
    "            # concatenate into one structure\n",
    "            sample = np.concatenate((label, displace_data, bMode), axis=2)\n",
    "\n",
    "            data.append(sample)\n",
    "            fileNames.append(fileName)\n",
    "    return data, fileNames"
   ]
  },
  {
   "cell_type": "code",
   "execution_count": null,
   "id": "d3996b7f",
   "metadata": {},
   "outputs": [],
   "source": [
    "def process_patients_2(path, objective, patient_nums=None):\n",
    "    \"\"\"\n",
    "    Process data of all patients\n",
    "\n",
    "    Args:\n",
    "        path (string): path to folder storing patient data\n",
    "        objective (integer): 0-brain mask, 1-blood mask\n",
    "        patient_nums (list(string)): list of patient numbers to process;\n",
    "                                process all if None is given;\n",
    "                                format: DoDxxx\n",
    "    Return:\n",
    "        1. numpy array of displacement data, label, and bMode\n",
    "        2. list of patient files\n",
    "    \"\"\"\n",
    "    patients_data = []\n",
    "    file_list = []\n",
    "    \n",
    "    # process all if no patient number is given\n",
    "    if patient_nums is None:\n",
    "        for patient in os.listdir(path):\n",
    "            dataPath = os.path.join(path, patient)\n",
    "            data, fileNames = process_data_2(path=dataPath, objective=objective)\n",
    "            patients_data.extend(data)\n",
    "            file_list.extend(fileNames)\n",
    "    # process only the given patients\n",
    "    else:\n",
    "        for patient_num in patient_nums:\n",
    "            if os.path.isdir(os.path.join(path, patient_num)):\n",
    "                dataPath = os.path.join(path, patient_num)\n",
    "                data, fileNames = process_data_2(path=dataPath, objective=objective)\n",
    "                patients_data.extend(data)\n",
    "                file_list.extend(fileNames)\n",
    "            else:\n",
    "                print('Patient' + patient_num + 'does not exist')\n",
    "    \n",
    "    return np.array(patients_data), np.array(file_list)"
   ]
  },
  {
   "cell_type": "code",
   "execution_count": null,
   "id": "e2077b69",
   "metadata": {},
   "outputs": [],
   "source": [
    "def disp_input_2(label, bMode, displacement, xAxis, yAxis):\n",
    "    \"\"\"\n",
    "    Display an input\n",
    "    \n",
    "    Args:\n",
    "        label (numpy.arr): the label\n",
    "        bMode (numpy.arr): bMode\n",
    "        displacement (numpy.arr): displacement\n",
    "        xAxis (numpy.arr): numpy array contain x axis for display the cone\n",
    "        yAxis (numpy.arr): numpy array contain y axis for display the cone\n",
    "    \"\"\"\n",
    "    image = x\n",
    "    # get the label\n",
    "    label = image[:, :, 0]\n",
    "    label.reshape([256, 80])\n",
    "    # get bmode\n",
    "    bmode = image[:, :, 2]\n",
    "    bmode.reshape([256, 80])\n",
    "    _, bin_edges = np.histogram(image, bins=25)\n",
    "    # get displacement\n",
    "    displacement = image[:, :, 1]\n",
    "    displacement.reshape([256, 80])\n",
    "    # display\n",
    "    fig, ax = plt.subplots(1, 3, figsize=(24, 6))\n",
    "    ax[0].pcolormesh(xAxis, -yAxis, label, shading='auto', cmap='magma', vmin=0, vmax=2)\n",
    "    ax[1].pcolormesh(xAxis, -yAxis, bmode, shading='auto', cmap='binary', vmin=bin_edges[2], vmax=bin_edges[-2])\n",
    "    ax[2].pcolormesh(xAxis, -yAxis, displacement, shading='auto')\n",
    "    \n",
    "    plt.show()"
   ]
  },
  {
   "cell_type": "code",
   "execution_count": null,
   "id": "5d307fe5",
   "metadata": {},
   "outputs": [],
   "source": [
    "def standardize(displacement, x_dim, y_dim):\n",
    "    \"\"\"\n",
    "    Normalize displacement data Silver's way\n",
    "\n",
    "    Args:\n",
    "        displacement (numpy array): one displacement frame\n",
    "        x_dim (int): horizontal dim of the final image\n",
    "        y_dim (int): vertical dim of the final image\n",
    "    Return:\n",
    "        displace_data (numpy array): normalized displacement shape (x_dim, y_dim)\n",
    "    \"\"\"\n",
    "    displacement = cv2.resize(displacement, (y_dim, x_dim))\n",
    "    displacement = displacement - displacement.mean(axis=0)\n",
    "    safe_max = np.abs(displacement).max(axis=0)\n",
    "    safe_max[safe_max == 0] = 1\n",
    "    displacement = displacement / safe_max\n",
    "\n",
    "    return displacement"
   ]
  },
  {
   "cell_type": "code",
   "execution_count": null,
   "id": "af88c7fe",
   "metadata": {},
   "outputs": [],
   "source": []
  },
  {
   "cell_type": "code",
   "execution_count": null,
   "id": "a6bb54a4",
   "metadata": {},
   "outputs": [],
   "source": []
  },
  {
   "cell_type": "code",
   "execution_count": null,
   "id": "4a2b065d",
   "metadata": {},
   "outputs": [],
   "source": []
  },
  {
   "cell_type": "code",
   "execution_count": null,
   "id": "edcd60a2",
   "metadata": {},
   "outputs": [],
   "source": [
    "x = np.array([[1,2,3],[1,2,3]])"
   ]
  },
  {
   "cell_type": "code",
   "execution_count": null,
   "id": "0fa9a025",
   "metadata": {},
   "outputs": [],
   "source": [
    "y = np.array([[1,2,3],[1,2,3]])"
   ]
  },
  {
   "cell_type": "code",
   "execution_count": null,
   "id": "20438ebc",
   "metadata": {},
   "outputs": [],
   "source": [
    "x.shape"
   ]
  },
  {
   "cell_type": "code",
   "execution_count": null,
   "id": "3e33c5da",
   "metadata": {},
   "outputs": [],
   "source": [
    "z = [x, y]"
   ]
  },
  {
   "cell_type": "code",
   "execution_count": null,
   "id": "cf4eba8c",
   "metadata": {},
   "outputs": [],
   "source": [
    "z = np.array(z)"
   ]
  },
  {
   "cell_type": "code",
   "execution_count": null,
   "id": "49dca4c3",
   "metadata": {},
   "outputs": [],
   "source": [
    "z.shape"
   ]
  },
  {
   "cell_type": "code",
   "execution_count": null,
   "id": "68fe5c4e",
   "metadata": {},
   "outputs": [],
   "source": []
  },
  {
   "cell_type": "code",
   "execution_count": null,
   "id": "687b5ab5",
   "metadata": {},
   "outputs": [],
   "source": []
  },
  {
   "cell_type": "markdown",
   "id": "6d9afe2f",
   "metadata": {},
   "source": [
    "# Save data Silver's way"
   ]
  },
  {
   "cell_type": "code",
   "execution_count": null,
   "id": "9d7c0050",
   "metadata": {},
   "outputs": [],
   "source": [
    "def normalize_displacement(displace_data):\n",
    "    \"\"\"\n",
    "    Normalize displacement data\n",
    "\n",
    "    Args:\n",
    "        displace_data (numpy array): 10 points of displacement data in a cardiac cycle\n",
    "    Return:\n",
    "        displace_data (numpy array): normalized 10 points of displacement\n",
    "    \"\"\"\n",
    "    displace_data = displace_data - displace_data.mean(axis=0).mean(axis = 0)\n",
    "    safe_max = np.abs(displace_data).max(axis=0).max(axis=0)\n",
    "    safe_max[safe_max == 0] = 1\n",
    "    displace_data = displace_data / safe_max\n",
    "    displace_data = cv2.resize(displace_data, (80, 256))\n",
    "\n",
    "    return displace_data"
   ]
  },
  {
   "cell_type": "code",
   "execution_count": null,
   "id": "2caadbd5",
   "metadata": {},
   "outputs": [],
   "source": [
    "def extract_displace_data(rawData):\n",
    "    \"\"\"\n",
    "    Extract the displacement data from a patient file.\n",
    "    Ignore the last cardiac cycle.\n",
    "    Take 10 points from the start of a cardiac cycel\n",
    "\n",
    "    Args:\n",
    "        rawData (raw from .mat): raw data loaded from .mat file\n",
    "\n",
    "    Return:\n",
    "        displace_data (numpy array): displacement data\n",
    "    \"\"\"\n",
    "    displacement = np.array(list(rawData['displacement']))\n",
    "    hrTimes = np.array(list(rawData['hrTimes']))\n",
    "    hrShape = hrTimes.shape\n",
    "    disShape = displacement.shape\n",
    "    displace_data = np.zeros([disShape[0], disShape[1], 10, hrShape[1] - 1])\n",
    "    for h in range(0, hrShape[1] - 1):\n",
    "        start = int(math.ceil(30 * hrTimes[0, h]))\n",
    "        displace_data[:, :, :, h] = displacement[:, :, start: start + 10]\n",
    "    \n",
    "    return np.array(displace_data.astype('float64'))"
   ]
  },
  {
   "cell_type": "code",
   "execution_count": null,
   "id": "2968219d",
   "metadata": {},
   "outputs": [],
   "source": [
    "def process_patients(path, objective, patient_nums=None):\n",
    "    \"\"\"\n",
    "    Process data of all patients\n",
    "\n",
    "    Args:\n",
    "        path (string): path to folder storing patient data\n",
    "        objective (integer): 0-brain mask, 1-blood mask\n",
    "        patient_nums (list(string)): list of patient numbers to process;\n",
    "                                process all if None is given;\n",
    "                                format: DoDxxx\n",
    "    Return:\n",
    "        1. numpy array of displacement data, label, and bMode\n",
    "        2. list of patient files\n",
    "    \"\"\"\n",
    "    patients_data = []\n",
    "    file_list = []\n",
    "    \n",
    "    # process all if no patient number is given\n",
    "    if patient_nums is None:\n",
    "        for patient in os.listdir(path):\n",
    "            dataPath = os.path.join(path, patient)\n",
    "            data, fileNames = process_data(path=dataPath, objective=objective)\n",
    "            patients_data.extend(data)\n",
    "            file_list.extend(fileNames)\n",
    "    # process only the given patients\n",
    "    else:\n",
    "        for patient_num in patient_nums:\n",
    "            if os.path.isdir(os.path.join(path, patient_num)):\n",
    "                dataPath = os.path.join(path, patient_num)\n",
    "                data, fileNames = process_data(path=dataPath, objective=objective)\n",
    "                patients_data.extend(data)\n",
    "                file_list.extend(fileNames)\n",
    "            else:\n",
    "                print('Patient' + patient_num + 'does not exist')\n",
    "    \n",
    "    return np.array(patients_data), np.array(file_list)"
   ]
  },
  {
   "cell_type": "code",
   "execution_count": null,
   "id": "ec6d7be1",
   "metadata": {},
   "outputs": [],
   "source": [
    "def process_data(path, objective):\n",
    "    \"\"\"\n",
    "    Process the raw data for a patient\n",
    "    \"\"\"\n",
    "    # list of input images\n",
    "    data = []\n",
    "    # list of file names\n",
    "    fileNames = []\n",
    "    # process all file in the directory\n",
    "    for file in os.listdir(path):\n",
    "        if \".mat\" in file:\n",
    "            filePath = os.path.join(path, file)\n",
    "            fileName = file[0:17]\n",
    "            rawData = loadmat(filePath)\n",
    "            # get the labels\n",
    "            normalMask = np.array(list(rawData['normalMask'])) \n",
    "            bloodMask = np.array(list(rawData['bloodMaskThick']))\n",
    "            brainMask = np.array(list(rawData['brainMask']))\n",
    "            bMode = np.array(list(rawData['bModeNorm']))\n",
    "\n",
    "            if len(bloodMask) == 0:\n",
    "                break\n",
    "            \n",
    "            # extract the displacement data\n",
    "            displace_data = extract_displace_data(rawData)\n",
    "            \n",
    "            # resize the masks\n",
    "            normalMask = cv2.resize(normalMask, (80, 256))\n",
    "            bloodMask = cv2.resize(bloodMask, (80, 256))\n",
    "            brainMask = cv2.resize(brainMask, (80, 256))\n",
    "            bMode = np.log10(bMode)\n",
    "            bMode = bMode.astype('float64')\n",
    "            bMode = np.mean(bMode, axis=2)\n",
    "\n",
    "            # create label\n",
    "            if objective == 0:\n",
    "                label = np.where(brainMask == 0, 0, 1)\n",
    "            else:\n",
    "                label = bloodMask + 1\n",
    "                label = label.astype('float32')\n",
    "                label = np.where(brainMask == 0, 0, label)\n",
    "\n",
    "            label = label.reshape([256, 80, 1])\n",
    "            n_cycles = displace_data.shape[-1]\n",
    "\n",
    "            # normalize\n",
    "            for k in range(0, n_cycles):\n",
    "                displace_data0 = displace_data[:, :, :, k]\n",
    "                displace_data0 = normalize_displacement(displace_data0)\n",
    "               \n",
    "                bMode0 = bMode[:, :, k]\n",
    "                bMode0 = cv2.resize(bMode0, (80, 256))\n",
    "                bMode0 = bMode0.reshape([256, 80, 1])\n",
    "\n",
    "                if objective == 1:\n",
    "                    # delete non-brain from input\n",
    "                    for i in range(0, displace_data0.shape[-1]):\n",
    "                        displace_data0[:, :, i] = np.where(brainMask == 0, 0.0, displace_data0[:, :, i])\n",
    "\n",
    "                # concatenate into one structure\n",
    "                sample = np.concatenate((label, displace_data0, bMode0), axis=2)\n",
    "                \n",
    "                data.append(sample)\n",
    "                fileNames.append(fileName + '_cycle' + str(k + 1))\n",
    "    return data, fileNames"
   ]
  },
  {
   "cell_type": "code",
   "execution_count": null,
   "id": "65d54d1b",
   "metadata": {},
   "outputs": [],
   "source": [
    "def split_data(data, nameList, savePath, test_size=0.2, random_state=42):\n",
    "    \"\"\"\n",
    "    Split the data into train and test set and save to file\n",
    "    \n",
    "    Args:\n",
    "        data (numpy array): the data to operate on\n",
    "        pathList (numpy array): the list of file name correspond to the data\n",
    "        test_size (float): the propotion of the test set\n",
    "        random_state (int): maintain the consistency between the data and file names\n",
    "    \n",
    "    Return: None\n",
    "    \"\"\"\n",
    "    train_data, test_data, train_list, test_list = train_test_split(\n",
    "                                                        data, \n",
    "                                                        nameList,\n",
    "                                                        test_size=test_size,\n",
    "                                                        random_state=random_state\n",
    "                                                    )\n",
    "    np.save(os.path.join(savePath, \"TrainingData.npy\"), train_data)\n",
    "    np.save(os.path.join(savePath, \"TestingData.npy\"), test_data)\n",
    "    np.save(os.path.join(savePath, \"TrainingPaths.npy\"), train_list)\n",
    "    np.save(os.path.join(savePath, \"TestingPaths.npy\"), test_list)"
   ]
  },
  {
   "cell_type": "code",
   "execution_count": null,
   "id": "11b71776",
   "metadata": {},
   "outputs": [],
   "source": [
    "def disp_input(x, xAxis, yAxis, displacement_pos):\n",
    "    \"\"\"\n",
    "    Display an input\n",
    "    \n",
    "    @param: x: numpy array contain the data, bmode, and mask\n",
    "    @param: displacement_pos: position of the extracted displacement (1 - 10)\n",
    "    @param: xAxis: the rescale axis used to display cone shape\n",
    "    @param: yAxis: the rescale axis used to display cone shape\n",
    "    \"\"\"\n",
    "    image = x\n",
    "    # get the label\n",
    "    label = image[:, :, 0]\n",
    "    label.reshape([256, 80])\n",
    "    # get bmode\n",
    "    bmode = image[:, :, 11]\n",
    "    bmode.reshape([256, 80])\n",
    "    _, bin_edges = np.histogram(image, bins=25)\n",
    "    # get displacement\n",
    "    displacement = image[:, :, displacement_pos]\n",
    "    displacement.reshape([256, 80])\n",
    "    # display\n",
    "    fig, ax = plt.subplots(1, 3, figsize=(24, 6))\n",
    "    ax[0].pcolormesh(xAxis, -yAxis, label, shading='auto', cmap='magma', vmin=0, vmax=2)\n",
    "    ax[1].pcolormesh(xAxis, -yAxis, bmode, shading='auto', cmap='binary', vmin=bin_edges[2], vmax=bin_edges[-2])\n",
    "    ax[2].pcolormesh(xAxis, -yAxis, displacement, shading='auto')\n",
    "    \n",
    "    plt.show()"
   ]
  },
  {
   "cell_type": "code",
   "execution_count": null,
   "id": "a64fd1dc",
   "metadata": {},
   "outputs": [],
   "source": [
    "# get data from file\n",
    "data, fileList = process_patients(data_dir, objective=1, patient_nums=['DoD009'])"
   ]
  },
  {
   "cell_type": "code",
   "execution_count": null,
   "id": "832cd4a6",
   "metadata": {},
   "outputs": [],
   "source": [
    "data.shape"
   ]
  },
  {
   "cell_type": "code",
   "execution_count": null,
   "id": "860e6055",
   "metadata": {},
   "outputs": [],
   "source": [
    "fileList"
   ]
  },
  {
   "cell_type": "code",
   "execution_count": null,
   "id": "c9b121ab",
   "metadata": {},
   "outputs": [],
   "source": [
    "disp_input(data[1,:,:,:], xAxis, yAxis, displacement_pos=1)"
   ]
  }
 ],
 "metadata": {
  "kernelspec": {
   "display_name": "Python 3 (ipykernel)",
   "language": "python",
   "name": "python3"
  },
  "language_info": {
   "codemirror_mode": {
    "name": "ipython",
    "version": 3
   },
   "file_extension": ".py",
   "mimetype": "text/x-python",
   "name": "python",
   "nbconvert_exporter": "python",
   "pygments_lexer": "ipython3",
   "version": "3.9.2"
  }
 },
 "nbformat": 4,
 "nbformat_minor": 5
}
