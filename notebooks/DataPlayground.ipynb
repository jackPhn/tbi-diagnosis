{
 "cells": [
  {
   "cell_type": "code",
   "execution_count": 1,
   "id": "30bd7efd",
   "metadata": {},
   "outputs": [],
   "source": [
    "import os\n",
    "import numpy as np\n",
    "import cv2\n",
    "import math\n",
    "import matplotlib.pyplot as plt\n",
    "import sklearn\n",
    "from tensorflow.keras import backend as K\n",
    "from scipy.io import loadmat"
   ]
  },
  {
   "cell_type": "code",
   "execution_count": 2,
   "id": "5a36f89b",
   "metadata": {},
   "outputs": [
    {
     "name": "stdout",
     "output_type": "stream",
     "text": [
      "['yAxis.npy', 'xAxis.npy', 'DataPlayground.ipynb', '.ipynb_checkpoints']\n"
     ]
    }
   ],
   "source": [
    "print(os.listdir())"
   ]
  },
  {
   "cell_type": "code",
   "execution_count": 3,
   "id": "6edf1063",
   "metadata": {},
   "outputs": [],
   "source": [
    "IPH_patients = [8, 9, 10, 12, 22, 47, 53, 62, 66, 67, 69, 74, 75, 78, 85, 89, 93,\n",
    "                101, 105, 107, 110, 112, 113, 120, 121, 126, 129, 130, 133]\n",
    "\n",
    "bad_patients = [1, 14, 22, 23, 27, 28, 32, 34, 35, 36, 37, 38, 39, 44, 49, 69, 71, \n",
    "                78, 82, 90, 98, 101, 121, 124, 128, 133, 928]"
   ]
  },
  {
   "cell_type": "code",
   "execution_count": 39,
   "id": "0cb32163",
   "metadata": {},
   "outputs": [],
   "source": [
    "# Extract axis information to produce cone-shape images\n",
    "def FetchAxis(datapath, axisPath):\n",
    "    data = loadmat(datapath)\n",
    "\n",
    "    xaxis = np.array(list(data['xAxis']))\n",
    "    yaxis = np.array(list(data['zAxis']))\n",
    "\n",
    "    xaxis = cv2.resize(xaxis, (80, 256), interpolation=cv2.INTER_AREA)\n",
    "    yaxis = cv2.resize(yaxis, (80, 256), interpolation=cv2.INTER_AREA)\n",
    "\n",
    "    xaxis += 100\n",
    "    yaxis -= 4\n",
    "\n",
    "    print(\"saved axis info in : {}\".format(axisPath))\n",
    "    np.save(os.path.join(axisPath, \"xAxis.npy\"), xaxis)\n",
    "    np.save(os.path.join(axisPath, \"yAxis.npy\"), yaxis)\n",
    "    \n",
    "    return xaxis, yaxis"
   ]
  },
  {
   "cell_type": "code",
   "execution_count": 40,
   "id": "d17a5464",
   "metadata": {},
   "outputs": [
    {
     "name": "stdout",
     "output_type": "stream",
     "text": [
      "saved axis info in : /DATA/phan92/notebooks\n"
     ]
    }
   ],
   "source": [
    "# extract axis information\n",
    "axisPath = \"/DATA/phan92/notebooks\"\n",
    "rand_input_file = \"/DATA/phan92/test_resource/raw_data/DoD110/DoD110_Ter002_LO1_Displacement_Normalized_3.mat\"\n",
    "xAxis, yAxis = FetchAxis(rand_input_file, axisPath)"
   ]
  },
  {
   "cell_type": "code",
   "execution_count": null,
   "id": "01edfe1f",
   "metadata": {},
   "outputs": [],
   "source": [
    "def normalize_displacement(displace_data):\n",
    "    \"\"\"\n",
    "    Normalize displacement data\n",
    "\n",
    "    Args:\n",
    "        displace_data (numpy array): 10 points of displacement data in a cardiac cycle\n",
    "    Return:\n",
    "        displace_data (numpy array): one image = average of the 10 points\n",
    "    \"\"\"\n",
    "    displace_data = displace_data - displace_data.mean(axis=0).mean(axis = 0)\n",
    "    safe_max = np.abs(displace_data).max(axis=0).max(axis=0)\n",
    "    safe_max[safe_max == 0] = 1\n",
    "    displace_data = displace_data / safe_max \n",
    "    displace_data = cv2.resize(displace_data, (80, 256))\n",
    "\n",
    "    return displace_data"
   ]
  },
  {
   "cell_type": "code",
   "execution_count": null,
   "id": "10b50f9f",
   "metadata": {},
   "outputs": [],
   "source": [
    "def extract_displace_data(rawData):\n",
    "    \"\"\"\n",
    "    Extract the displacement data from a patient file.\n",
    "    Ignore the last cardiac cycle.\n",
    "    Take 10 points from the start of a cardiac cycel\n",
    "\n",
    "    Args:\n",
    "        rawData (raw from .mat): raw data loaded from .mat file\n",
    "\n",
    "    Return:\n",
    "        displace_data (numpy array): displacement data\n",
    "    \"\"\"\n",
    "    displacement = np.array(list(rawData['displacement']))\n",
    "    hrTimes = np.array(list(rawData['hrTimes']))\n",
    "    hrShape = hrTimes.shape\n",
    "    disShape = displacement.shape\n",
    "    displace_data = np.zeros([disShape[0], disShape[1], 10, hrShape[1] - 1])\n",
    "    for h in range(0, hrShape[1] - 1):\n",
    "        start = int(math.ceil(30 * hrTimes[0, h]))\n",
    "        displace_data[:, :, :, h] = displacement[:, :, start: start + 10]\n",
    "    \n",
    "    return np.array(displace_data.astype('float64'))"
   ]
  },
  {
   "cell_type": "code",
   "execution_count": null,
   "id": "63c490fa",
   "metadata": {},
   "outputs": [],
   "source": [
    "def process_patients(path, objective, patient_num=None):\n",
    "    \"\"\"\n",
    "    Process data of all patients\n",
    "\n",
    "    Args:\n",
    "        path (string): path to folder storing patient data\n",
    "        objective (integer): 0-brain mask, 1-blood mask\n",
    "        patient_num (int): not used currently\n",
    "    Return:\n",
    "        1. numpy array of displacement data, label, and bMode\n",
    "        2. list of patient files\n",
    "    \"\"\"\n",
    "    patients_data = []\n",
    "    file_list = []\n",
    "    for patient in os.listdir(path):\n",
    "        dataPath = os.path.join(path, patient)\n",
    "        data, fileNames = process_data(path=dataPath, objective=objective)\n",
    "        patients_data.append(data)\n",
    "        file_list.append(fileNames)\n",
    "    \n",
    "    return np.array(patients_data), np.array(file_list)"
   ]
  },
  {
   "cell_type": "code",
   "execution_count": null,
   "id": "c5c38f26",
   "metadata": {},
   "outputs": [],
   "source": [
    "def process_data(path, objective):\n",
    "    \"\"\"\n",
    "    Process the raw data for a patient\n",
    "    \"\"\"\n",
    "    # list of input images\n",
    "    data = []\n",
    "    # list of file names\n",
    "    fileNames = []\n",
    "    # process all file in the directory\n",
    "    for file in os.listdir(path):\n",
    "        if \".mat\" in file:\n",
    "            print(file)               # to be removed\n",
    "            filePath = os.path.join(path, file)\n",
    "            fileName = file[0:17]\n",
    "            rawData = loadmat(filePath)\n",
    "            # get the labels\n",
    "            normalMask = np.array(list(rawData['normalMask'])) \n",
    "            bloodMask = np.array(list(rawData['bloodMaskThick']))\n",
    "            brainMask = np.array(list(rawData['brainMask']))\n",
    "            bMode = np.array(list(rawData['bModeNorm']))\n",
    "\n",
    "            if len(bloodMask) == 0:\n",
    "                break\n",
    "            \n",
    "            # extract the displacement data\n",
    "            displace_data = extract_displace_data(rawData)\n",
    "            \n",
    "            # resize the masks\n",
    "            normalMask = cv2.resize(normalMask, (80, 256))\n",
    "            bloodMask = cv2.resize(bloodMask, (80, 256))\n",
    "            brainMask = cv2.resize(brainMask, (80, 256))\n",
    "            bMode = np.log10(bMode)\n",
    "            bMode = bMode.astype('float64')\n",
    "            bMode = np.mean(bMode, axis=2)\n",
    "\n",
    "            # create label\n",
    "            if objective == 0:\n",
    "                label = np.where(brainMask == 0, 0, 1)\n",
    "            else:\n",
    "                label = bloodMask + 1\n",
    "                label = label.astype('float32')\n",
    "                label = np.where(brainMask == 0, 0, label)\n",
    "\n",
    "            label = label.reshape([256, 80, 1])\n",
    "            n_cycles = displace_data.shape[-1]\n",
    "\n",
    "            # normalize\n",
    "            for k in range(0, n_cycles):\n",
    "                displace_data0 = displace_data[:, :, :, k]\n",
    "                displace_data0 = normalize_displacement(displace_data0)\n",
    "                \n",
    "                bMode0 = bMode[:, :, k]\n",
    "                bMode0 = cv2.resize(bMode0, (80, 256))\n",
    "                bMode0 = bMode0.reshape([256, 80, 1])\n",
    "\n",
    "                if objective == 1:\n",
    "                    # delete non-brain from input\n",
    "                    for i in range(0, displace_data0.shape[-1]):\n",
    "                        displace_data0[:, :, i] = np.where(brainMask == 0, 0.0, displace_data0[:, :, i])\n",
    "\n",
    "                # concatenate into one structure\n",
    "                sample = np.concatenate((label, displace_data0, bMode0), axis=2)\n",
    "                \n",
    "            data.append(sample)\n",
    "            fileNames.append(fileName + '_cycle' + str(k))\n",
    "            print(\"Data shape:\", np.array(data).shape)\n",
    "    return np.array(data), np.array(fileNames)"
   ]
  },
  {
   "cell_type": "code",
   "execution_count": null,
   "id": "5d3b96b0",
   "metadata": {},
   "outputs": [],
   "source": [
    "def split_data(data, nameList, savePath, test_size=0.2, random_state=42):\n",
    "    \"\"\"\n",
    "    Split the data into train and test set and save to file\n",
    "    \n",
    "    Args:\n",
    "        data (numpy array): the data to operate on\n",
    "        pathList (numpy array): the list of file name correspond to the data\n",
    "        test_size (float): the propotion of the test set\n",
    "        random_state (int): maintain the consistency between the data and file names\n",
    "    \n",
    "    Return: None\n",
    "    \"\"\"\n",
    "    train_data, test_data, train_list, test_list = train_test_split(\n",
    "                                                        data, \n",
    "                                                        nameList,\n",
    "                                                        test_size=test_size,\n",
    "                                                        random_state=random_state\n",
    "                                                    )\n",
    "    np.save(os.path.join(savePath, \"TrainingData.npy\"), train_data)\n",
    "    np.save(os.path.join(savePath, \"TestingData.npy\"), test_data)\n",
    "    np.save(os.path.join(savePath, \"TrainingPaths.npy\"), train_list)\n",
    "    np.save(os.path.join(savePath, \"TestingPaths.npy\"), test_list)"
   ]
  },
  {
   "cell_type": "code",
   "execution_count": null,
   "id": "be620cf8",
   "metadata": {},
   "outputs": [],
   "source": [
    "# path to raw data\n",
    "rawDataPath = \"/DATA/phan92/test_resource/raw_data\"\n",
    "#path to saved processed data\n",
    "savePath = os.getcwd()"
   ]
  },
  {
   "cell_type": "code",
   "execution_count": null,
   "id": "5f5139d5",
   "metadata": {},
   "outputs": [],
   "source": [
    "# get data from file\n",
    "data, fileList = process_patients(rawDataPath, objective=1)"
   ]
  },
  {
   "cell_type": "code",
   "execution_count": null,
   "id": "5af4aa68",
   "metadata": {},
   "outputs": [],
   "source": [
    "def DispInput(x, mode):\n",
    "    xshape = x.shape\n",
    "    \"\"\"\n",
    "    for i in range(0, xshape[3]):\n",
    "        tempx = x[:, :, :, i]\n",
    "        plt.grid(False)\n",
    "        plt.imshow(tempx, cmap='winter')\n",
    "        plt.show() \"\"\"\n",
    "    image = x[0]\n",
    "    image = image.reshape([256, 80, 12])\n",
    "    \n",
    "    if mode == 0:\n",
    "        image = image[:, :, 0]\n",
    "        image.reshape([256, 80])\n",
    "        plt.pcolormesh(xAxis, -yAxis, image, shading='auto', cmap='magma', vmin=0, vmax=2)\n",
    "    elif mode == 1:\n",
    "        image = image[:, :, 11]\n",
    "        image.reshape([256, 80])\n",
    "        _, bin_edges = np.histogram(image, bins=25)\n",
    "        plt.pcolormesh(xAxis, -yAxis, image, shading='auto', cmap='binary', vmin=bin_edges[2], vmax=bin_edges[-2])\n",
    "    else:\n",
    "        image = image[:, :, 1]\n",
    "        image.reshape([256, 80])\n",
    "        plt.pcolormesh(xAxis, -yAxis, image, shading='auto', cmap='nipy_spectral')\n",
    "    plt.show()"
   ]
  },
  {
   "cell_type": "code",
   "execution_count": null,
   "id": "605cc1bf",
   "metadata": {},
   "outputs": [],
   "source": [
    "DispInput(data, 0)"
   ]
  },
  {
   "cell_type": "code",
   "execution_count": null,
   "id": "9cd2292c",
   "metadata": {},
   "outputs": [],
   "source": [
    "DispInput(data, 1)"
   ]
  },
  {
   "cell_type": "code",
   "execution_count": null,
   "id": "a6fc4a79",
   "metadata": {},
   "outputs": [],
   "source": [
    "DispInput(data, 2)"
   ]
  },
  {
   "cell_type": "markdown",
   "id": "4da43b40",
   "metadata": {},
   "source": [
    "# Descriptive statistics of the data"
   ]
  },
  {
   "cell_type": "code",
   "execution_count": 4,
   "id": "e54f557d",
   "metadata": {},
   "outputs": [],
   "source": [
    "rawDataPath = '/DATA/phan92/raw_data/cardiac_displacement_3_updated_Oct13'"
   ]
  },
  {
   "cell_type": "code",
   "execution_count": 5,
   "id": "c79c3fa0",
   "metadata": {},
   "outputs": [],
   "source": [
    "data = []\n",
    "fileNames = []"
   ]
  },
  {
   "cell_type": "code",
   "execution_count": 6,
   "id": "a39150db",
   "metadata": {},
   "outputs": [
    {
     "name": "stdout",
     "output_type": "stream",
     "text": [
      "DoD017\n",
      "17\n",
      "DoD052\n",
      "52\n",
      "DoD007\n",
      "7\n",
      "DoD098\n",
      "98\n",
      "DoD049\n",
      "49\n",
      "DoD124\n",
      "124\n",
      "DoD028\n",
      "28\n",
      "DoD047\n",
      "47\n",
      "DoD116\n",
      "116\n",
      "DoD084\n",
      "84\n",
      "DoD008\n",
      "8\n",
      "DoD037\n",
      "37\n",
      "DoD055\n",
      "55\n",
      "DoD016\n",
      "16\n",
      "DoD023\n",
      "23\n",
      "DoD112\n",
      "112\n",
      "DoD068\n",
      "68\n",
      "DoD093\n",
      "93\n",
      "DoD102\n",
      "102\n",
      "DoD058\n",
      "58\n",
      "DoD075\n",
      "75\n",
      "DoD107\n",
      "107\n",
      "DoD021\n",
      "21\n",
      "DoD083\n",
      "83\n",
      "DoD001\n",
      "1\n",
      "DoD121\n",
      "121\n",
      "DoD100\n",
      "100\n",
      "DoD036\n",
      "36\n",
      "DoD082\n",
      "82\n",
      "DoD060\n",
      "60\n",
      "DoD077\n",
      "77\n",
      "DoD042\n",
      "42\n",
      "DoD002\n",
      "2\n",
      "DoD032\n",
      "32\n",
      "DoD034\n",
      "34\n",
      "DoD070\n",
      "70\n",
      "DoD106\n",
      "106\n",
      "DoD073\n",
      "73\n",
      "DoD010\n",
      "10\n",
      "DoD039\n",
      "39\n",
      "DoD014\n",
      "14\n",
      "DoD120\n",
      "120\n",
      "DoD101\n",
      "101\n",
      "DoD067\n",
      "67\n",
      "DoD113\n",
      "113\n",
      "DoD088\n",
      "88\n",
      "DoD069\n",
      "69\n",
      "DoD131\n",
      "131\n",
      "DoD103\n",
      "103\n",
      "DoD005\n",
      "5\n",
      "DoD064\n",
      "64\n",
      "DoD074\n",
      "74\n",
      "DoD097\n",
      "97\n",
      "DoD111\n",
      "111\n",
      "DoD126\n",
      "126\n",
      "DoD009\n",
      "9\n",
      "DoD090\n",
      "90\n",
      "DoD045\n",
      "45\n",
      "DoD050\n",
      "50\n",
      "DoD125\n",
      "125\n",
      "DoD053\n",
      "53\n",
      "DoD062\n",
      "62\n",
      "DoD087\n",
      "87\n",
      "DoD006\n",
      "6\n",
      "DoD122\n",
      "122\n",
      "DoD110\n",
      "110\n",
      "DoD018\n",
      "18\n",
      "DoD033\n",
      "33\n",
      "DoD078\n",
      "78\n",
      "DoD065\n",
      "65\n",
      "DoD027\n",
      "27\n",
      "DoD072\n",
      "72\n",
      "DoD024\n",
      "24\n",
      "DoD130\n",
      "130\n",
      "DoD089\n",
      "89\n",
      "DoD025\n",
      "25\n",
      "DoD003\n",
      "3\n",
      "DoD063\n",
      "63\n",
      "DoD099\n",
      "99\n",
      "DoD035\n",
      "35\n",
      "DoD013\n",
      "13\n",
      "DoD081\n",
      "81\n",
      "DoD071\n",
      "71\n",
      "DoD040\n",
      "40\n",
      "DoD057\n",
      "57\n",
      "DoD015\n",
      "15\n",
      "DoD048\n",
      "48\n",
      "DoD132\n",
      "132\n",
      "DoD012\n",
      "12\n",
      "DoD085\n",
      "85\n",
      "DoD108\n",
      "108\n",
      "DoD119\n",
      "119\n",
      "DoD129\n",
      "129\n",
      "DoD105\n",
      "105\n",
      "DoD123\n",
      "123\n",
      "DoD004\n",
      "4\n",
      "DoD092\n",
      "92\n",
      "DoD038\n",
      "38\n",
      "DoD044\n",
      "44\n",
      "DoD066\n",
      "66\n",
      "DoD046\n",
      "46\n",
      "DoD056\n",
      "56\n",
      "DoD029\n",
      "29\n",
      "DoD022\n",
      "22\n"
     ]
    }
   ],
   "source": [
    "# collect the data\n",
    "for patient in os.listdir(rawDataPath):\n",
    "    print(patient)\n",
    "    patient_num = int(patient[3:])\n",
    "    print(patient_num)\n",
    "    if patient_num not in bad_patients:\n",
    "        patientPath = os.path.join(rawDataPath, patient)\n",
    "        for scan in os.listdir(patientPath):\n",
    "            scanPath = os.path.join(patientPath, scan)\n",
    "            fileNames.append(scanPath)\n",
    "            rawData = loadmat(scanPath)\n",
    "            displacement = np.array(list(rawData['displacement']))\n",
    "            hrTimes = np.array(list(rawData['hrTimes']))\n",
    "            hrShape = hrTimes.shape\n",
    "            disShape = displacement.shape\n",
    "            for h in range(0, hrShape[1] - 1):\n",
    "                start = int(math.ceil(30 * hrTimes[0, h]))\n",
    "                # get 10 points after start of a cardiac cycle\n",
    "                for i in range(0, 11):\n",
    "                    data.append(displacement[:, :, start + i])"
   ]
  },
  {
   "cell_type": "code",
   "execution_count": 7,
   "id": "1ca99a78",
   "metadata": {},
   "outputs": [
    {
     "name": "stderr",
     "output_type": "stream",
     "text": [
      "/tmp/ipykernel_2858/4012140830.py:1: VisibleDeprecationWarning: Creating an ndarray from ragged nested sequences (which is a list-or-tuple of lists-or-tuples-or ndarrays with different lengths or shapes) is deprecated. If you meant to do this, you must specify 'dtype=object' when creating the ndarray\n",
      "  data = np.array(data)\n"
     ]
    }
   ],
   "source": [
    "data = np.array(data)"
   ]
  },
  {
   "cell_type": "code",
   "execution_count": 8,
   "id": "7f9ac249",
   "metadata": {},
   "outputs": [
    {
     "data": {
      "text/plain": [
       "(113586,)"
      ]
     },
     "execution_count": 8,
     "metadata": {},
     "output_type": "execute_result"
    }
   ],
   "source": [
    "data.shape"
   ]
  },
  {
   "cell_type": "code",
   "execution_count": null,
   "id": "c919e4a9",
   "metadata": {},
   "outputs": [],
   "source": [
    "# collect the data\n",
    "for patient in os.listdir(rawDataPath):\n",
    "    print(patient)\n",
    "    patientPath = os.path.join(rawDataPath, patient)\n",
    "    for scan in os.listdir(patientPath):\n",
    "        scanPath = os.path.join(patientPath, scan)\n",
    "        fileNames.append(scanPath)\n",
    "        rawData = loadmat(scanPath)\n",
    "        data.append(np.array(rawData['displacement']))"
   ]
  },
  {
   "cell_type": "code",
   "execution_count": 9,
   "id": "bc4aacb8",
   "metadata": {},
   "outputs": [],
   "source": [
    "average = []\n",
    "maximum = []\n",
    "minimum = []"
   ]
  },
  {
   "cell_type": "code",
   "execution_count": 24,
   "id": "e733a077",
   "metadata": {},
   "outputs": [],
   "source": [
    "for sample in data:\n",
    "    average.append(np.mean(sample))\n",
    "    maximum.append(np.max(sample))\n",
    "    minimum.append(np.min(sample))"
   ]
  },
  {
   "cell_type": "code",
   "execution_count": 25,
   "id": "592e0d43",
   "metadata": {},
   "outputs": [
    {
     "data": {
      "text/plain": [
       "0.772491986879523"
      ]
     },
     "execution_count": 25,
     "metadata": {},
     "output_type": "execute_result"
    }
   ],
   "source": [
    "# max of maximum\n",
    "np.max(maximum)"
   ]
  },
  {
   "cell_type": "code",
   "execution_count": 26,
   "id": "c269267e",
   "metadata": {},
   "outputs": [
    {
     "data": {
      "text/plain": [
       "0.0157644268109475"
      ]
     },
     "execution_count": 26,
     "metadata": {},
     "output_type": "execute_result"
    }
   ],
   "source": [
    "# min of maximum\n",
    "np.min(maximum)"
   ]
  },
  {
   "cell_type": "code",
   "execution_count": 27,
   "id": "c42243be",
   "metadata": {},
   "outputs": [
    {
     "data": {
      "text/plain": [
       "0.09017389996046557"
      ]
     },
     "execution_count": 27,
     "metadata": {},
     "output_type": "execute_result"
    }
   ],
   "source": [
    "# average of maximum\n",
    "np.mean(maximum)"
   ]
  },
  {
   "cell_type": "code",
   "execution_count": 28,
   "id": "82574d05",
   "metadata": {},
   "outputs": [
    {
     "data": {
      "text/plain": [
       "-0.01716000449786988"
      ]
     },
     "execution_count": 28,
     "metadata": {},
     "output_type": "execute_result"
    }
   ],
   "source": [
    "# max of minimum\n",
    "np.max(minimum)"
   ]
  },
  {
   "cell_type": "code",
   "execution_count": 29,
   "id": "861c35ab",
   "metadata": {},
   "outputs": [
    {
     "data": {
      "text/plain": [
       "-0.6597592688362924"
      ]
     },
     "execution_count": 29,
     "metadata": {},
     "output_type": "execute_result"
    }
   ],
   "source": [
    "# min of minimum\n",
    "np.min(minimum)"
   ]
  },
  {
   "cell_type": "code",
   "execution_count": 30,
   "id": "60f1687b",
   "metadata": {},
   "outputs": [
    {
     "data": {
      "text/plain": [
       "-0.08755959629566559"
      ]
     },
     "execution_count": 30,
     "metadata": {},
     "output_type": "execute_result"
    }
   ],
   "source": [
    "# average of minimum\n",
    "np.mean(minimum)"
   ]
  },
  {
   "cell_type": "code",
   "execution_count": 31,
   "id": "dd17c5ea",
   "metadata": {},
   "outputs": [
    {
     "ename": "ValueError",
     "evalue": "operands could not be broadcast together with shapes (259,79) (259,80) ",
     "output_type": "error",
     "traceback": [
      "\u001b[0;31m---------------------------------------------------------------------------\u001b[0m",
      "\u001b[0;31mValueError\u001b[0m                                Traceback (most recent call last)",
      "\u001b[0;32m/tmp/ipykernel_12618/1193377091.py\u001b[0m in \u001b[0;36m<module>\u001b[0;34m\u001b[0m\n\u001b[0;32m----> 1\u001b[0;31m \u001b[0mmax_by_99percentile\u001b[0m \u001b[0;34m=\u001b[0m \u001b[0mnp\u001b[0m\u001b[0;34m.\u001b[0m\u001b[0mpercentile\u001b[0m\u001b[0;34m(\u001b[0m\u001b[0mdata\u001b[0m\u001b[0;34m,\u001b[0m \u001b[0;36m99.0\u001b[0m\u001b[0;34m)\u001b[0m\u001b[0;34m\u001b[0m\u001b[0;34m\u001b[0m\u001b[0m\n\u001b[0m",
      "\u001b[0;32m<__array_function__ internals>\u001b[0m in \u001b[0;36mpercentile\u001b[0;34m(*args, **kwargs)\u001b[0m\n",
      "\u001b[0;32m/DATA/phan92/tbi_venv/lib/python3.9/site-packages/numpy/lib/function_base.py\u001b[0m in \u001b[0;36mpercentile\u001b[0;34m(a, q, axis, out, overwrite_input, interpolation, keepdims)\u001b[0m\n\u001b[1;32m   3730\u001b[0m     \u001b[0;32mif\u001b[0m \u001b[0;32mnot\u001b[0m \u001b[0m_quantile_is_valid\u001b[0m\u001b[0;34m(\u001b[0m\u001b[0mq\u001b[0m\u001b[0;34m)\u001b[0m\u001b[0;34m:\u001b[0m\u001b[0;34m\u001b[0m\u001b[0;34m\u001b[0m\u001b[0m\n\u001b[1;32m   3731\u001b[0m         \u001b[0;32mraise\u001b[0m \u001b[0mValueError\u001b[0m\u001b[0;34m(\u001b[0m\u001b[0;34m\"Percentiles must be in the range [0, 100]\"\u001b[0m\u001b[0;34m)\u001b[0m\u001b[0;34m\u001b[0m\u001b[0;34m\u001b[0m\u001b[0m\n\u001b[0;32m-> 3732\u001b[0;31m     return _quantile_unchecked(\n\u001b[0m\u001b[1;32m   3733\u001b[0m         a, q, axis, out, overwrite_input, interpolation, keepdims)\n\u001b[1;32m   3734\u001b[0m \u001b[0;34m\u001b[0m\u001b[0m\n",
      "\u001b[0;32m/DATA/phan92/tbi_venv/lib/python3.9/site-packages/numpy/lib/function_base.py\u001b[0m in \u001b[0;36m_quantile_unchecked\u001b[0;34m(a, q, axis, out, overwrite_input, interpolation, keepdims)\u001b[0m\n\u001b[1;32m   3849\u001b[0m                         interpolation='linear', keepdims=False):\n\u001b[1;32m   3850\u001b[0m     \u001b[0;34m\"\"\"Assumes that q is in [0, 1], and is an ndarray\"\"\"\u001b[0m\u001b[0;34m\u001b[0m\u001b[0;34m\u001b[0m\u001b[0m\n\u001b[0;32m-> 3851\u001b[0;31m     r, k = _ureduce(a, func=_quantile_ureduce_func, q=q, axis=axis, out=out,\n\u001b[0m\u001b[1;32m   3852\u001b[0m                     \u001b[0moverwrite_input\u001b[0m\u001b[0;34m=\u001b[0m\u001b[0moverwrite_input\u001b[0m\u001b[0;34m,\u001b[0m\u001b[0;34m\u001b[0m\u001b[0;34m\u001b[0m\u001b[0m\n\u001b[1;32m   3853\u001b[0m                     interpolation=interpolation)\n",
      "\u001b[0;32m/DATA/phan92/tbi_venv/lib/python3.9/site-packages/numpy/lib/function_base.py\u001b[0m in \u001b[0;36m_ureduce\u001b[0;34m(a, func, **kwargs)\u001b[0m\n\u001b[1;32m   3427\u001b[0m         \u001b[0mkeepdim\u001b[0m \u001b[0;34m=\u001b[0m \u001b[0;34m(\u001b[0m\u001b[0;36m1\u001b[0m\u001b[0;34m,\u001b[0m\u001b[0;34m)\u001b[0m \u001b[0;34m*\u001b[0m \u001b[0ma\u001b[0m\u001b[0;34m.\u001b[0m\u001b[0mndim\u001b[0m\u001b[0;34m\u001b[0m\u001b[0;34m\u001b[0m\u001b[0m\n\u001b[1;32m   3428\u001b[0m \u001b[0;34m\u001b[0m\u001b[0m\n\u001b[0;32m-> 3429\u001b[0;31m     \u001b[0mr\u001b[0m \u001b[0;34m=\u001b[0m \u001b[0mfunc\u001b[0m\u001b[0;34m(\u001b[0m\u001b[0ma\u001b[0m\u001b[0;34m,\u001b[0m \u001b[0;34m**\u001b[0m\u001b[0mkwargs\u001b[0m\u001b[0;34m)\u001b[0m\u001b[0;34m\u001b[0m\u001b[0;34m\u001b[0m\u001b[0m\n\u001b[0m\u001b[1;32m   3430\u001b[0m     \u001b[0;32mreturn\u001b[0m \u001b[0mr\u001b[0m\u001b[0;34m,\u001b[0m \u001b[0mkeepdim\u001b[0m\u001b[0;34m\u001b[0m\u001b[0;34m\u001b[0m\u001b[0m\n\u001b[1;32m   3431\u001b[0m \u001b[0;34m\u001b[0m\u001b[0m\n",
      "\u001b[0;32m/DATA/phan92/tbi_venv/lib/python3.9/site-packages/numpy/lib/function_base.py\u001b[0m in \u001b[0;36m_quantile_ureduce_func\u001b[0;34m(a, q, axis, out, overwrite_input, interpolation, keepdims)\u001b[0m\n\u001b[1;32m   3952\u001b[0m         \u001b[0mweights_above\u001b[0m\u001b[0;34m.\u001b[0m\u001b[0mshape\u001b[0m \u001b[0;34m=\u001b[0m \u001b[0mweights_shape\u001b[0m\u001b[0;34m\u001b[0m\u001b[0;34m\u001b[0m\u001b[0m\n\u001b[1;32m   3953\u001b[0m \u001b[0;34m\u001b[0m\u001b[0m\n\u001b[0;32m-> 3954\u001b[0;31m         \u001b[0map\u001b[0m\u001b[0;34m.\u001b[0m\u001b[0mpartition\u001b[0m\u001b[0;34m(\u001b[0m\u001b[0mconcatenate\u001b[0m\u001b[0;34m(\u001b[0m\u001b[0;34m(\u001b[0m\u001b[0mindices_below\u001b[0m\u001b[0;34m,\u001b[0m \u001b[0mindices_above\u001b[0m\u001b[0;34m)\u001b[0m\u001b[0;34m)\u001b[0m\u001b[0;34m,\u001b[0m \u001b[0maxis\u001b[0m\u001b[0;34m=\u001b[0m\u001b[0maxis\u001b[0m\u001b[0;34m)\u001b[0m\u001b[0;34m\u001b[0m\u001b[0;34m\u001b[0m\u001b[0m\n\u001b[0m\u001b[1;32m   3955\u001b[0m \u001b[0;34m\u001b[0m\u001b[0m\n\u001b[1;32m   3956\u001b[0m         \u001b[0;31m# ensure axis with q-th is first\u001b[0m\u001b[0;34m\u001b[0m\u001b[0;34m\u001b[0m\u001b[0;34m\u001b[0m\u001b[0m\n",
      "\u001b[0;31mValueError\u001b[0m: operands could not be broadcast together with shapes (259,79) (259,80) "
     ]
    }
   ],
   "source": [
    "max_by_99percentile = np.percentile(data, 99.0)"
   ]
  },
  {
   "cell_type": "code",
   "execution_count": null,
   "id": "2fdb94c4",
   "metadata": {},
   "outputs": [],
   "source": []
  },
  {
   "cell_type": "code",
   "execution_count": 10,
   "id": "fa8d62f3",
   "metadata": {},
   "outputs": [],
   "source": [
    "# resize the data\n",
    "resized_data = []\n",
    "for sample in data:\n",
    "    resized_sample = cv2.resize(sample, (80, 256))\n",
    "    resized_data.append(resized_sample)"
   ]
  },
  {
   "cell_type": "code",
   "execution_count": 11,
   "id": "15f4352d",
   "metadata": {},
   "outputs": [],
   "source": [
    "resized_data = np.array(resized_data)"
   ]
  },
  {
   "cell_type": "code",
   "execution_count": 12,
   "id": "f29d753c",
   "metadata": {},
   "outputs": [
    {
     "data": {
      "text/plain": [
       "(113586, 256, 80)"
      ]
     },
     "execution_count": 12,
     "metadata": {},
     "output_type": "execute_result"
    }
   ],
   "source": [
    "resized_data.shape"
   ]
  },
  {
   "cell_type": "code",
   "execution_count": 13,
   "id": "ea0cb251",
   "metadata": {},
   "outputs": [],
   "source": [
    "resized_sample = resized_data[0]"
   ]
  },
  {
   "cell_type": "code",
   "execution_count": 42,
   "id": "a22b0309",
   "metadata": {},
   "outputs": [
    {
     "name": "stderr",
     "output_type": "stream",
     "text": [
      "/tmp/ipykernel_12618/630313974.py:1: UserWarning: The input coordinates to pcolormesh are interpreted as cell centers, but are not monotonically increasing or decreasing. This may lead to incorrectly calculated cell edges, in which case, please supply explicit cell edges to pcolormesh.\n",
      "  plt.pcolormesh(xAxis, -yAxis, resized_sample, shading='auto', cmap='nipy_spectral')\n"
     ]
    },
    {
     "data": {
      "image/png": "[encoded data removed]",
      "text/plain": [
       "<Figure size 432x288 with 1 Axes>"
      ]
     },
     "metadata": {
      "needs_background": "light"
     },
     "output_type": "display_data"
    }
   ],
   "source": [
    "plt.pcolormesh(xAxis, -yAxis, resized_sample, shading='auto', cmap='nipy_spectral')\n",
    "plt.show()"
   ]
  },
  {
   "cell_type": "code",
   "execution_count": 14,
   "id": "e83b73f7",
   "metadata": {},
   "outputs": [],
   "source": [
    "resized_average = []\n",
    "resized_maximum = []\n",
    "resized_minimum = []"
   ]
  },
  {
   "cell_type": "code",
   "execution_count": 15,
   "id": "2e0a43ca",
   "metadata": {},
   "outputs": [],
   "source": [
    "for sample in resized_data:\n",
    "    resized_average.append(np.mean(sample))\n",
    "    resized_maximum.append(np.max(sample))\n",
    "    resized_minimum.append(np.min(sample))"
   ]
  },
  {
   "cell_type": "code",
   "execution_count": 16,
   "id": "6d8c3a6a",
   "metadata": {},
   "outputs": [
    {
     "data": {
      "text/plain": [
       "0.6095982322906554"
      ]
     },
     "execution_count": 16,
     "metadata": {},
     "output_type": "execute_result"
    }
   ],
   "source": [
    "# max of maximum\n",
    "np.max(resized_maximum)"
   ]
  },
  {
   "cell_type": "code",
   "execution_count": 17,
   "id": "bbe00050",
   "metadata": {},
   "outputs": [
    {
     "data": {
      "text/plain": [
       "0.015528991163791252"
      ]
     },
     "execution_count": 17,
     "metadata": {},
     "output_type": "execute_result"
    }
   ],
   "source": [
    "# min of maximum\n",
    "np.min(resized_maximum)"
   ]
  },
  {
   "cell_type": "code",
   "execution_count": 18,
   "id": "01273894",
   "metadata": {},
   "outputs": [
    {
     "data": {
      "text/plain": [
       "0.08002375768994417"
      ]
     },
     "execution_count": 18,
     "metadata": {},
     "output_type": "execute_result"
    }
   ],
   "source": [
    "# average of maximum\n",
    "np.mean(resized_maximum)"
   ]
  },
  {
   "cell_type": "code",
   "execution_count": 19,
   "id": "56a71521",
   "metadata": {},
   "outputs": [
    {
     "data": {
      "text/plain": [
       "-0.015574967907953234"
      ]
     },
     "execution_count": 19,
     "metadata": {},
     "output_type": "execute_result"
    }
   ],
   "source": [
    "# max of minimum\n",
    "np.max(resized_minimum)"
   ]
  },
  {
   "cell_type": "code",
   "execution_count": 20,
   "id": "cbb7ab98",
   "metadata": {},
   "outputs": [
    {
     "data": {
      "text/plain": [
       "-0.5508689353898761"
      ]
     },
     "execution_count": 20,
     "metadata": {},
     "output_type": "execute_result"
    }
   ],
   "source": [
    "# min of minimum\n",
    "np.min(resized_minimum)"
   ]
  },
  {
   "cell_type": "code",
   "execution_count": 21,
   "id": "05d6f90e",
   "metadata": {},
   "outputs": [
    {
     "data": {
      "text/plain": [
       "-0.07743219179718064"
      ]
     },
     "execution_count": 21,
     "metadata": {},
     "output_type": "execute_result"
    }
   ],
   "source": [
    "# average of minimum\n",
    "np.mean(resized_minimum)"
   ]
  },
  {
   "cell_type": "code",
   "execution_count": 23,
   "id": "0cad063b",
   "metadata": {},
   "outputs": [],
   "source": [
    "max_by_99point9percentile = np.percentile(np.array(resized_data), 99.9)"
   ]
  },
  {
   "cell_type": "code",
   "execution_count": 24,
   "id": "821da89c",
   "metadata": {},
   "outputs": [
    {
     "data": {
      "text/plain": [
       "0.09253779320802984"
      ]
     },
     "execution_count": 24,
     "metadata": {},
     "output_type": "execute_result"
    }
   ],
   "source": [
    "max_by_99point9percentile"
   ]
  },
  {
   "cell_type": "code",
   "execution_count": 62,
   "id": "c05282e8",
   "metadata": {},
   "outputs": [
    {
     "data": {
      "image/png": "[encoded data removed]",
      "text/plain": [
       "<Figure size 432x288 with 1 Axes>"
      ]
     },
     "metadata": {
      "needs_background": "light"
     },
     "output_type": "display_data"
    }
   ],
   "source": [
    "plt.hist(resized_data.flatten())\n",
    "plt.yscale('log')\n",
    "plt.show()"
   ]
  },
  {
   "cell_type": "code",
   "execution_count": null,
   "id": "618e7e69",
   "metadata": {},
   "outputs": [],
   "source": []
  },
  {
   "cell_type": "code",
   "execution_count": null,
   "id": "5d705ea1",
   "metadata": {},
   "outputs": [],
   "source": []
  },
  {
   "cell_type": "code",
   "execution_count": null,
   "id": "13776865",
   "metadata": {},
   "outputs": [],
   "source": []
  },
  {
   "cell_type": "code",
   "execution_count": null,
   "id": "d0643bc2",
   "metadata": {},
   "outputs": [],
   "source": []
  },
  {
   "cell_type": "code",
   "execution_count": null,
   "id": "5ac09c4f",
   "metadata": {},
   "outputs": [],
   "source": []
  },
  {
   "cell_type": "code",
   "execution_count": null,
   "id": "d3996b7f",
   "metadata": {},
   "outputs": [],
   "source": []
  },
  {
   "cell_type": "code",
   "execution_count": null,
   "id": "e2077b69",
   "metadata": {},
   "outputs": [],
   "source": []
  },
  {
   "cell_type": "code",
   "execution_count": null,
   "id": "5d307fe5",
   "metadata": {},
   "outputs": [],
   "source": []
  },
  {
   "cell_type": "code",
   "execution_count": null,
   "id": "f698119c",
   "metadata": {},
   "outputs": [],
   "source": [
    "def dice_coefficient(y_true, y_pred, axis=(1, 2, 3)):\n",
    "    \"\"\"\n",
    "    Compute mean dice coefficient over all class\n",
    "    \n",
    "    Args:\n",
    "        y_true (Tensorflow tensor): tensor of ground truth\n",
    "                                    shape: (num_class, x_dim, y_dim, z_dim)\n",
    "        y_pred (Tensorflow tensor): tensor of soft prediction for all classes\n",
    "                                    shape: (num_class, x_dim, y_dim, z_dim)\n",
    "        axis (tuple): spatial axis to sum over\n",
    "        epsilon (float): small constant added to avoid divide by 0 error\n",
    "    Return:\n",
    "        dice_coefficient (float): computed value of dice coefficient\n",
    "    \"\"\"\n",
    "    \n",
    "    dice_numerator = 2. * K.sum(y_true * y_pred, axis=axis) + epsilon\n",
    "    dice_denominator = K.sum(y_true, axis=axis) + K.sum(y_pred, axis=axis) + epsilon\n",
    "    dice_coefficient = K.mean(dice_numerator / dice_denominator)\n",
    "    \n",
    "    return dice_coefficient"
   ]
  },
  {
   "cell_type": "code",
   "execution_count": null,
   "id": "52820d92",
   "metadata": {},
   "outputs": [],
   "source": [
    "def soft_dice_loss(y_true, y_pred, axis=(1, 2, 3), epsilon=0.00001):\n",
    "    \"\"\"\n",
    "    Compute mean soft dice loss over all classes\n",
    "    \n",
    "    Args:\n",
    "        y_true (Tensorflow tensor): tensor of ground truth\n",
    "                                    shape: (num_class, x_dim, y_dim, z_dim)\n",
    "        y_pred (Tensorflow tensor): tensor of soft prediction for all classes\n",
    "                                    shape: (num_class, x_dim, y_dim, z_dim)\n",
    "        axis (tuple): spatial axis to sum over\n",
    "        epsilon (float): small constant added to avoid divide by 0 error\n",
    "        \n",
    "    Return:\n",
    "        dice_loss (float): computed value of dice loss\n",
    "    \"\"\"\n",
    "    \n",
    "    dice_numerator = 2. * K.sum(y_true * y_pred, axis=axis) + epsilon\n",
    "    dice_denominator = K.sum(y_true**2, axis=axis) + K.sum(y_pred**2, axis=axis) + epsilon\n",
    "    dice_loss = 1 - K.mean(dice_numerator / dice_denominator)\n",
    "    \n",
    "    return dice_loss"
   ]
  },
  {
   "cell_type": "code",
   "execution_count": null,
   "id": "af88c7fe",
   "metadata": {},
   "outputs": [],
   "source": []
  },
  {
   "cell_type": "code",
   "execution_count": null,
   "id": "7fe408bc",
   "metadata": {},
   "outputs": [],
   "source": [
    "def create_convolution_block(input_layer, n_filters, batch_normalization=False,\n",
    "                             kernel=(3, 3, 3), activation=None,\n",
    "                             padding='same', strides=(1, 1, 1),\n",
    "                             instance_normalization=False):\n",
    "    \"\"\"\n",
    "    :param strides:\n",
    "    :param input_layer:\n",
    "    :param n_filters:\n",
    "    :param batch_normalization:\n",
    "    :param kernel:\n",
    "    :param activation: Keras activation layer to use. (default is 'relu')\n",
    "    :param padding:\n",
    "    :return:\n",
    "    \"\"\"\n",
    "    layer = Conv3D(n_filters, kernel, padding=padding, strides=strides)(\n",
    "        input_layer)\n",
    "    if activation is None:\n",
    "        return Activation('relu')(layer)\n",
    "    else:\n",
    "        return activation()(layer)"
   ]
  },
  {
   "cell_type": "code",
   "execution_count": null,
   "id": "7ecfe3ab",
   "metadata": {},
   "outputs": [],
   "source": [
    "def get_up_convolution(n_filters, pool_size, kernel_size=(2, 2, 2),\n",
    "                       strides=(2, 2, 2),\n",
    "                       deconvolution=False):\n",
    "    if deconvolution:\n",
    "        return Conv3DTranspose(filters=n_filters, kernel_size=kernel_size,\n",
    "                               strides=strides)\n",
    "    else:\n",
    "        return UpSampling3D(size=pool_size)"
   ]
  },
  {
   "cell_type": "code",
   "execution_count": null,
   "id": "6f292373",
   "metadata": {},
   "outputs": [],
   "source": [
    "\n",
    "def unet_model_3d(loss_function, input_shape=(4, 160, 160, 16),\n",
    "                  pool_size=(2, 2, 2), n_labels=3,\n",
    "                  initial_learning_rate=0.00001,\n",
    "                  deconvolution=False, depth=4, n_base_filters=32,\n",
    "                  include_label_wise_dice_coefficients=False, metrics=[],\n",
    "                  batch_normalization=False, activation_name=\"sigmoid\"):\n",
    "    \"\"\"\n",
    "    Builds the 3D UNet Keras model.f\n",
    "    :param metrics: List metrics to be calculated during model training (default is dice coefficient).\n",
    "    :param include_label_wise_dice_coefficients: If True and n_labels is greater than 1, model will report the dice\n",
    "    coefficient for each label as metric.\n",
    "    :param n_base_filters: The number of filters that the first layer in the convolution network will have. Following\n",
    "    layers will contain a multiple of this number. Lowering this number will likely reduce the amount of memory required\n",
    "    to train the model.\n",
    "    :param depth: indicates the depth of the U-shape for the model. The greater the depth, the more max pooling\n",
    "    layers will be added to the model. Lowering the depth may reduce the amount of memory required for training.\n",
    "    :param input_shape: Shape of the input data (n_chanels, x_size, y_size, z_size). The x, y, and z sizes must be\n",
    "    divisible by the pool size to the power of the depth of the UNet, that is pool_size^depth.\n",
    "    :param pool_size: Pool size for the max pooling operations.\n",
    "    :param n_labels: Number of binary labels that the model is learning.\n",
    "    :param initial_learning_rate: Initial learning rate for the model. This will be decayed during training.\n",
    "    :param deconvolution: If set to True, will use transpose convolution(deconvolution) instead of up-sampling. This\n",
    "    increases the amount memory required during training.\n",
    "    :return: Untrained 3D UNet Model\n",
    "    \"\"\"\n",
    "    inputs = Input(input_shape)\n",
    "    current_layer = inputs\n",
    "    levels = list()\n",
    "\n",
    "    # add levels with max pooling\n",
    "    for layer_depth in range(depth):\n",
    "        layer1 = create_convolution_block(input_layer=current_layer,\n",
    "                                          n_filters=n_base_filters * (\n",
    "                                                  2 ** layer_depth),\n",
    "                                          batch_normalization=batch_normalization)\n",
    "        layer2 = create_convolution_block(input_layer=layer1,\n",
    "                                          n_filters=n_base_filters * (\n",
    "                                                  2 ** layer_depth) * 2,\n",
    "                                          batch_normalization=batch_normalization)\n",
    "        if layer_depth < depth - 1:\n",
    "            current_layer = MaxPooling3D(pool_size=pool_size)(layer2)\n",
    "            levels.append([layer1, layer2, current_layer])\n",
    "        else:\n",
    "            current_layer = layer2\n",
    "            levels.append([layer1, layer2])\n",
    "\n",
    "    # add levels with up-convolution or up-sampling\n",
    "    for layer_depth in range(depth - 2, -1, -1):\n",
    "        \n",
    "        #print(K.int_shape(current_layer)[1])\n",
    "        up_convolution = get_up_convolution(pool_size=pool_size,\n",
    "                                            deconvolution=deconvolution,\n",
    "                                            n_filters=K.int_shape(current_layer)[1])(current_layer)\n",
    "        \n",
    "        concat = concatenate([up_convolution, levels[layer_depth][1]], axis=1)\n",
    "        \n",
    "        #print(K.int_shape(levels[layer_depth][1])[1])\n",
    "        current_layer = create_convolution_block(n_filters= K.int_shape(levels[layer_depth][1])[1],\n",
    "                                                 input_layer=concat, \n",
    "                                                 batch_normalization=batch_normalization)\n",
    "        \n",
    "        current_layer = create_convolution_block(n_filters= K.int_shape(levels[layer_depth][1])[1],\n",
    "                                                 input_layer=current_layer,\n",
    "                                                 batch_normalization=batch_normalization)\n",
    "\n",
    "    final_convolution = Conv3D(n_labels, (1, 1, 1))(current_layer)\n",
    "    act = Activation(activation_name)(final_convolution)\n",
    "    model = Model(inputs=inputs, outputs=act)\n",
    "\n",
    "    if not isinstance(metrics, list):\n",
    "        metrics = [metrics]\n",
    "\n",
    "    model.compile(optimizer=Adam(lr=initial_learning_rate), loss=loss_function,\n",
    "                  metrics=metrics)\n",
    "    return model"
   ]
  },
  {
   "cell_type": "code",
   "execution_count": null,
   "id": "a6bb54a4",
   "metadata": {},
   "outputs": [],
   "source": []
  },
  {
   "cell_type": "code",
   "execution_count": null,
   "id": "4a2b065d",
   "metadata": {},
   "outputs": [],
   "source": []
  },
  {
   "cell_type": "code",
   "execution_count": null,
   "id": "edcd60a2",
   "metadata": {},
   "outputs": [],
   "source": []
  }
 ],
 "metadata": {
  "kernelspec": {
   "display_name": "Python 3 (ipykernel)",
   "language": "python",
   "name": "python3"
  },
  "language_info": {
   "codemirror_mode": {
    "name": "ipython",
    "version": 3
   },
   "file_extension": ".py",
   "mimetype": "text/x-python",
   "name": "python",
   "nbconvert_exporter": "python",
   "pygments_lexer": "ipython3",
   "version": "3.9.2"
  }
 },
 "nbformat": 4,
 "nbformat_minor": 5
}
